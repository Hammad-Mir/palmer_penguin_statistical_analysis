{
  "nbformat": 4,
  "nbformat_minor": 0,
  "metadata": {
    "colab": {
      "provenance": [],
      "collapsed_sections": [
        "3ec3cqGcrxTi",
        "ccky-BEYVf0A",
        "CGmDDNQgXzzv"
      ]
    },
    "kernelspec": {
      "name": "ir",
      "display_name": "R"
    },
    "language_info": {
      "name": "R"
    }
  },
  "cells": [
    {
      "cell_type": "code",
      "metadata": {
        "id": "JosKSdZaSi1b",
        "colab": {
          "base_uri": "https://localhost:8080/"
        },
        "outputId": "fd1464b2-bc82-48ce-ba48-1164296ae734"
      },
      "source": [
        "install.packages('GGally')\n",
        "install.packages('ggplot2')\n",
        "install.packages('gridExtra')\n",
        "library(gridExtra)"
      ],
      "execution_count": null,
      "outputs": [
        {
          "output_type": "stream",
          "name": "stderr",
          "text": [
            "Installing package into ‘/usr/local/lib/R/site-library’\n",
            "(as ‘lib’ is unspecified)\n",
            "\n",
            "Installing package into ‘/usr/local/lib/R/site-library’\n",
            "(as ‘lib’ is unspecified)\n",
            "\n",
            "Installing package into ‘/usr/local/lib/R/site-library’\n",
            "(as ‘lib’ is unspecified)\n",
            "\n",
            "\n",
            "Attaching package: ‘gridExtra’\n",
            "\n",
            "\n",
            "The following object is masked from ‘package:dplyr’:\n",
            "\n",
            "    combine\n",
            "\n",
            "\n"
          ]
        }
      ]
    },
    {
      "cell_type": "code",
      "metadata": {
        "colab": {
          "base_uri": "https://localhost:8080/"
        },
        "id": "VXltSFQeL2kW",
        "outputId": "c477aa79-31c8-4b4a-907d-f74f33f7db19"
      },
      "source": [
        "# Installing the palmerpenguins package to access the data\n",
        "install.packages(\"palmerpenguins\")\n",
        "library(palmerpenguins)\n",
        "data(\"penguins\")\n",
        "penguins = na.omit(penguins) # Removes missing rows"
      ],
      "execution_count": null,
      "outputs": [
        {
          "output_type": "stream",
          "name": "stderr",
          "text": [
            "Installing package into ‘/usr/local/lib/R/site-library’\n",
            "(as ‘lib’ is unspecified)\n",
            "\n"
          ]
        }
      ]
    },
    {
      "cell_type": "code",
      "metadata": {
        "id": "Wyi04xM1sd39"
      },
      "source": [
        "# Accessing my unique subset of the penguin dataset\n",
        "my.student.number = 200709330 # Replace this with your student number\n",
        "set.seed(my.student.number)\n",
        "my.penguins = penguins[sample(nrow(penguins), 100), ]\n",
        "# The object my.penguins will now contain the data on my 100 penguins."
      ],
      "execution_count": null,
      "outputs": []
    },
    {
      "cell_type": "code",
      "metadata": {
        "colab": {
          "base_uri": "https://localhost:8080/",
          "height": 282
        },
        "id": "7nXfKB9_sd6m",
        "outputId": "5f1f1301-df85-4336-d43c-ba2fe9870a88"
      },
      "source": [
        "head(my.penguins)"
      ],
      "execution_count": null,
      "outputs": [
        {
          "output_type": "display_data",
          "data": {
            "text/plain": [
              "  species   island    bill_length_mm bill_depth_mm flipper_length_mm\n",
              "1 Chinstrap Dream     50.1           17.9          190              \n",
              "2 Gentoo    Biscoe    46.8           16.1          215              \n",
              "3 Gentoo    Biscoe    50.5           15.9          222              \n",
              "4 Gentoo    Biscoe    51.1           16.5          225              \n",
              "5 Adelie    Torgersen 39.7           18.4          190              \n",
              "6 Gentoo    Biscoe    45.4           14.6          211              \n",
              "  body_mass_g sex    year\n",
              "1 3400        female 2009\n",
              "2 5500        male   2009\n",
              "3 5550        male   2008\n",
              "4 5250        male   2009\n",
              "5 3900        male   2008\n",
              "6 4800        female 2007"
            ],
            "text/latex": "A tibble: 6 × 8\n\\begin{tabular}{llllllll}\n species & island & bill\\_length\\_mm & bill\\_depth\\_mm & flipper\\_length\\_mm & body\\_mass\\_g & sex & year\\\\\n <fct> & <fct> & <dbl> & <dbl> & <int> & <int> & <fct> & <int>\\\\\n\\hline\n\t Chinstrap & Dream     & 50.1 & 17.9 & 190 & 3400 & female & 2009\\\\\n\t Gentoo    & Biscoe    & 46.8 & 16.1 & 215 & 5500 & male   & 2009\\\\\n\t Gentoo    & Biscoe    & 50.5 & 15.9 & 222 & 5550 & male   & 2008\\\\\n\t Gentoo    & Biscoe    & 51.1 & 16.5 & 225 & 5250 & male   & 2009\\\\\n\t Adelie    & Torgersen & 39.7 & 18.4 & 190 & 3900 & male   & 2008\\\\\n\t Gentoo    & Biscoe    & 45.4 & 14.6 & 211 & 4800 & female & 2007\\\\\n\\end{tabular}\n",
            "text/markdown": "\nA tibble: 6 × 8\n\n| species &lt;fct&gt; | island &lt;fct&gt; | bill_length_mm &lt;dbl&gt; | bill_depth_mm &lt;dbl&gt; | flipper_length_mm &lt;int&gt; | body_mass_g &lt;int&gt; | sex &lt;fct&gt; | year &lt;int&gt; |\n|---|---|---|---|---|---|---|---|\n| Chinstrap | Dream     | 50.1 | 17.9 | 190 | 3400 | female | 2009 |\n| Gentoo    | Biscoe    | 46.8 | 16.1 | 215 | 5500 | male   | 2009 |\n| Gentoo    | Biscoe    | 50.5 | 15.9 | 222 | 5550 | male   | 2008 |\n| Gentoo    | Biscoe    | 51.1 | 16.5 | 225 | 5250 | male   | 2009 |\n| Adelie    | Torgersen | 39.7 | 18.4 | 190 | 3900 | male   | 2008 |\n| Gentoo    | Biscoe    | 45.4 | 14.6 | 211 | 4800 | female | 2007 |\n\n",
            "text/html": [
              "<table class=\"dataframe\">\n",
              "<caption>A tibble: 6 × 8</caption>\n",
              "<thead>\n",
              "\t<tr><th scope=col>species</th><th scope=col>island</th><th scope=col>bill_length_mm</th><th scope=col>bill_depth_mm</th><th scope=col>flipper_length_mm</th><th scope=col>body_mass_g</th><th scope=col>sex</th><th scope=col>year</th></tr>\n",
              "\t<tr><th scope=col>&lt;fct&gt;</th><th scope=col>&lt;fct&gt;</th><th scope=col>&lt;dbl&gt;</th><th scope=col>&lt;dbl&gt;</th><th scope=col>&lt;int&gt;</th><th scope=col>&lt;int&gt;</th><th scope=col>&lt;fct&gt;</th><th scope=col>&lt;int&gt;</th></tr>\n",
              "</thead>\n",
              "<tbody>\n",
              "\t<tr><td>Chinstrap</td><td>Dream    </td><td>50.1</td><td>17.9</td><td>190</td><td>3400</td><td>female</td><td>2009</td></tr>\n",
              "\t<tr><td>Gentoo   </td><td>Biscoe   </td><td>46.8</td><td>16.1</td><td>215</td><td>5500</td><td>male  </td><td>2009</td></tr>\n",
              "\t<tr><td>Gentoo   </td><td>Biscoe   </td><td>50.5</td><td>15.9</td><td>222</td><td>5550</td><td>male  </td><td>2008</td></tr>\n",
              "\t<tr><td>Gentoo   </td><td>Biscoe   </td><td>51.1</td><td>16.5</td><td>225</td><td>5250</td><td>male  </td><td>2009</td></tr>\n",
              "\t<tr><td>Adelie   </td><td>Torgersen</td><td>39.7</td><td>18.4</td><td>190</td><td>3900</td><td>male  </td><td>2008</td></tr>\n",
              "\t<tr><td>Gentoo   </td><td>Biscoe   </td><td>45.4</td><td>14.6</td><td>211</td><td>4800</td><td>female</td><td>2007</td></tr>\n",
              "</tbody>\n",
              "</table>\n"
            ]
          },
          "metadata": {}
        }
      ]
    },
    {
      "cell_type": "code",
      "metadata": {
        "colab": {
          "base_uri": "https://localhost:8080/",
          "height": 84
        },
        "id": "zpiSI1wL2ZSw",
        "outputId": "8474e334-cdef-4983-c0c4-c59c99660ccd"
      },
      "source": [
        "# Splitting the dataframe based on the gender of the penguin\n",
        "overall_genderwise_split = split(my.penguins, my.penguins$sex)\n",
        "\n",
        "# Calculating overall means and variances of bill_length_mm,\tbill_depth_mm,\tflipper_length_mm and body_mass_g for penguins per gender\n",
        "overall_male_means = c()\n",
        "overall_male_variances = c()\n",
        "overall_female_means = c()\n",
        "overall_female_variances = c()\n",
        "\n",
        "for (i in 3:6){\n",
        "  overall_male_means = c(overall_male_means, mean(unlist(overall_genderwise_split$male[i])))\n",
        "  overall_male_variances = c(overall_male_variances, var(unlist(overall_genderwise_split$male[i])))\n",
        "  overall_female_means = c(overall_female_means, mean(unlist(overall_genderwise_split$female[i])))\n",
        "  overall_female_variances = c(overall_female_variances, var(unlist(overall_genderwise_split$female[i])))\n",
        "}\n",
        "\n",
        "# Mean and variance values for bill_length_mm,\tbill_depth_mm,\tflipper_length_mm and body_mass_g\n",
        "overall_male_means\n",
        "overall_male_variances\n",
        "\n",
        "overall_female_means\n",
        "overall_female_variances"
      ],
      "execution_count": null,
      "outputs": [
        {
          "output_type": "display_data",
          "data": {
            "text/plain": [
              "[1]   45.32037   18.09259  203.12963 4487.96296"
            ],
            "text/latex": "\\begin{enumerate*}\n\\item 45.3203703703704\n\\item 18.0925925925926\n\\item 203.12962962963\n\\item 4487.96296296296\n\\end{enumerate*}\n",
            "text/markdown": "1. 45.3203703703704\n2. 18.0925925925926\n3. 203.12962962963\n4. 4487.96296296296\n\n\n",
            "text/html": [
              "<style>\n",
              ".list-inline {list-style: none; margin:0; padding: 0}\n",
              ".list-inline>li {display: inline-block}\n",
              ".list-inline>li:not(:last-child)::after {content: \"\\00b7\"; padding: 0 .5ex}\n",
              "</style>\n",
              "<ol class=list-inline><li>45.3203703703704</li><li>18.0925925925926</li><li>203.12962962963</li><li>4487.96296296296</li></ol>\n"
            ]
          },
          "metadata": {}
        },
        {
          "output_type": "display_data",
          "data": {
            "text/plain": [
              "[1] 2.938694e+01 3.032397e+00 2.023791e+02 4.980835e+05"
            ],
            "text/latex": "\\begin{enumerate*}\n\\item 29.3869357092942\n\\item 3.03239692522711\n\\item 202.379105520615\n\\item 498083.508036338\n\\end{enumerate*}\n",
            "text/markdown": "1. 29.3869357092942\n2. 3.03239692522711\n3. 202.379105520615\n4. 498083.508036338\n\n\n",
            "text/html": [
              "<style>\n",
              ".list-inline {list-style: none; margin:0; padding: 0}\n",
              ".list-inline>li {display: inline-block}\n",
              ".list-inline>li:not(:last-child)::after {content: \"\\00b7\"; padding: 0 .5ex}\n",
              "</style>\n",
              "<ol class=list-inline><li>29.3869357092942</li><li>3.03239692522711</li><li>202.379105520615</li><li>498083.508036338</li></ol>\n"
            ]
          },
          "metadata": {}
        },
        {
          "output_type": "display_data",
          "data": {
            "text/plain": [
              "[1]   41.80217   16.36304  198.39130 3889.67391"
            ],
            "text/latex": "\\begin{enumerate*}\n\\item 41.8021739130435\n\\item 16.3630434782609\n\\item 198.391304347826\n\\item 3889.67391304348\n\\end{enumerate*}\n",
            "text/markdown": "1. 41.8021739130435\n2. 16.3630434782609\n3. 198.391304347826\n4. 3889.67391304348\n\n\n",
            "text/html": [
              "<style>\n",
              ".list-inline {list-style: none; margin:0; padding: 0}\n",
              ".list-inline>li {display: inline-block}\n",
              ".list-inline>li:not(:last-child)::after {content: \"\\00b7\"; padding: 0 .5ex}\n",
              "</style>\n",
              "<ol class=list-inline><li>41.8021739130435</li><li>16.3630434782609</li><li>198.391304347826</li><li>3889.67391304348</li></ol>\n"
            ]
          },
          "metadata": {}
        },
        {
          "output_type": "display_data",
          "data": {
            "text/plain": [
              "[1] 2.182200e+01 3.665937e+00 1.716657e+02 4.497660e+05"
            ],
            "text/latex": "\\begin{enumerate*}\n\\item 21.8219951690821\n\\item 3.66593719806763\n\\item 171.665700483092\n\\item 449766.002415459\n\\end{enumerate*}\n",
            "text/markdown": "1. 21.8219951690821\n2. 3.66593719806763\n3. 171.665700483092\n4. 449766.002415459\n\n\n",
            "text/html": [
              "<style>\n",
              ".list-inline {list-style: none; margin:0; padding: 0}\n",
              ".list-inline>li {display: inline-block}\n",
              ".list-inline>li:not(:last-child)::after {content: \"\\00b7\"; padding: 0 .5ex}\n",
              "</style>\n",
              "<ol class=list-inline><li>21.8219951690821</li><li>3.66593719806763</li><li>171.665700483092</li><li>449766.002415459</li></ol>\n"
            ]
          },
          "metadata": {}
        }
      ]
    },
    {
      "cell_type": "code",
      "metadata": {
        "colab": {
          "base_uri": "https://localhost:8080/",
          "height": 220
        },
        "id": "m89VWMKb-t_o",
        "outputId": "659b06bb-e0de-48b4-8030-da48288e9a1c"
      },
      "source": [
        "# Splitting the male and female penguin data per species\n",
        "overall_male_species = split(overall_genderwise_split$male, overall_genderwise_split$male$species)\n",
        "overall_female_species = split(overall_genderwise_split$female, overall_genderwise_split$female$species)\n",
        "\n",
        "# Calculating overall means and variances of bill_length_mm,\tbill_depth_mm,\tflipper_length_mm and body_mass_g for penguins per gender\n",
        "overall_male_adelie_means = c()\n",
        "overall_male_adelie_variances = c()\n",
        "overall_female_adelie_means = c()\n",
        "overall_female_adelie_variances = c()\n",
        "\n",
        "overall_male_chinstrap_means = c()\n",
        "overall_male_chinstrap_variances = c()\n",
        "overall_female_chinstrap_means = c()\n",
        "overall_female_chinstrap_variances = c()\n",
        "\n",
        "overall_male_gentoo_means = c()\n",
        "overall_male_gentoo_variances = c()\n",
        "overall_female_gentoo_means = c()\n",
        "overall_female_gentoo_variances = c()\n",
        "\n",
        "for (i in 3:6){\n",
        "  overall_male_adelie_means = c(overall_male_adelie_means, mean(unlist(overall_male_species$Adelie[i])))\n",
        "  overall_male_adelie_variances = c(overall_male_adelie_variances, var(unlist(overall_male_species$Adelie[i])))\n",
        "  overall_female_adelie_means = c(overall_female_adelie_means, mean(unlist(overall_female_species$Adelie[i])))\n",
        "  overall_female_adelie_variances = c(overall_female_adelie_variances, var(unlist(overall_female_species$Adelie[i])))\n",
        "\n",
        "  overall_male_chinstrap_means = c(overall_male_chinstrap_means, mean(unlist(overall_male_species$Chinstrap[i])))\n",
        "  overall_male_chinstrap_variances = c(overall_male_chinstrap_variances, var(unlist(overall_male_species$Chinstrap[i])))\n",
        "  overall_female_chinstrap_means = c(overall_female_chinstrap_means, mean(unlist(overall_female_species$Chinstrap[i])))\n",
        "  overall_female_chinstrap_variances = c(overall_female_chinstrap_variances, var(unlist(overall_female_species$Chinstrap[i])))\n",
        "\n",
        "  overall_male_gentoo_means = c(overall_male_gentoo_means, mean(unlist(overall_male_species$Gentoo[i])))\n",
        "  overall_male_gentoo_variances = c(overall_male_gentoo_variances, var(unlist(overall_male_species$Gentoo[i])))\n",
        "  overall_female_gentoo_means = c(overall_female_gentoo_means, mean(unlist(overall_female_species$Gentoo[i])))\n",
        "  overall_female_gentoo_variances = c(overall_female_gentoo_variances, var(unlist(overall_female_species$Gentoo[i])))\n",
        "}\n",
        "\n",
        "overall_male_adelie_means\n",
        "overall_male_adelie_variances\n",
        "overall_female_adelie_means\n",
        "overall_female_adelie_variances\n",
        "\n",
        "overall_male_chinstrap_means\n",
        "overall_male_chinstrap_variances\n",
        "overall_female_chinstrap_means\n",
        "overall_female_chinstrap_variances\n",
        "\n",
        "overall_male_gentoo_means\n",
        "overall_male_gentoo_variances\n",
        "overall_female_gentoo_means\n",
        "overall_female_gentoo_variances"
      ],
      "execution_count": null,
      "outputs": [
        {
          "output_type": "display_data",
          "data": {
            "text/plain": [
              "[1]   40.75000   19.05357  192.60714 4114.28571"
            ],
            "text/latex": "\\begin{enumerate*}\n\\item 40.75\n\\item 19.0535714285714\n\\item 192.607142857143\n\\item 4114.28571428571\n\\end{enumerate*}\n",
            "text/markdown": "1. 40.75\n2. 19.0535714285714\n3. 192.607142857143\n4. 4114.28571428571\n\n\n",
            "text/html": [
              "<style>\n",
              ".list-inline {list-style: none; margin:0; padding: 0}\n",
              ".list-inline>li {display: inline-block}\n",
              ".list-inline>li:not(:last-child)::after {content: \"\\00b7\"; padding: 0 .5ex}\n",
              "</style>\n",
              "<ol class=list-inline><li>40.75</li><li>19.0535714285714</li><li>192.607142857143</li><li>4114.28571428571</li></ol>\n"
            ]
          },
          "metadata": {}
        },
        {
          "output_type": "display_data",
          "data": {
            "text/plain": [
              "[1] 8.050741e+00 1.003320e+00 2.698810e+01 1.221032e+05"
            ],
            "text/latex": "\\begin{enumerate*}\n\\item 8.05074074074074\n\\item 1.00332010582011\n\\item 26.9880952380952\n\\item 122103.174603175\n\\end{enumerate*}\n",
            "text/markdown": "1. 8.05074074074074\n2. 1.00332010582011\n3. 26.9880952380952\n4. 122103.174603175\n\n\n",
            "text/html": [
              "<style>\n",
              ".list-inline {list-style: none; margin:0; padding: 0}\n",
              ".list-inline>li {display: inline-block}\n",
              ".list-inline>li:not(:last-child)::after {content: \"\\00b7\"; padding: 0 .5ex}\n",
              "</style>\n",
              "<ol class=list-inline><li>8.05074074074074</li><li>1.00332010582011</li><li>26.9880952380952</li><li>122103.174603175</li></ol>\n"
            ]
          },
          "metadata": {}
        },
        {
          "output_type": "display_data",
          "data": {
            "text/plain": [
              "[1]   36.83684   17.85263  188.26316 3365.78947"
            ],
            "text/latex": "\\begin{enumerate*}\n\\item 36.8368421052632\n\\item 17.8526315789474\n\\item 188.263157894737\n\\item 3365.78947368421\n\\end{enumerate*}\n",
            "text/markdown": "1. 36.8368421052632\n2. 17.8526315789474\n3. 188.263157894737\n4. 3365.78947368421\n\n\n",
            "text/html": [
              "<style>\n",
              ".list-inline {list-style: none; margin:0; padding: 0}\n",
              ".list-inline>li {display: inline-block}\n",
              ".list-inline>li:not(:last-child)::after {content: \"\\00b7\"; padding: 0 .5ex}\n",
              "</style>\n",
              "<ol class=list-inline><li>36.8368421052632</li><li>17.8526315789474</li><li>188.263157894737</li><li>3365.78947368421</li></ol>\n"
            ]
          },
          "metadata": {}
        },
        {
          "output_type": "display_data",
          "data": {
            "text/plain": [
              "[1] 2.578012e+00 8.037427e-01 3.564912e+01 7.529240e+04"
            ],
            "text/latex": "\\begin{enumerate*}\n\\item 2.57801169590643\n\\item 0.80374269005848\n\\item 35.6491228070175\n\\item 75292.3976608187\n\\end{enumerate*}\n",
            "text/markdown": "1. 2.57801169590643\n2. 0.80374269005848\n3. 35.6491228070175\n4. 75292.3976608187\n\n\n",
            "text/html": [
              "<style>\n",
              ".list-inline {list-style: none; margin:0; padding: 0}\n",
              ".list-inline>li {display: inline-block}\n",
              ".list-inline>li:not(:last-child)::after {content: \"\\00b7\"; padding: 0 .5ex}\n",
              "</style>\n",
              "<ol class=list-inline><li>2.57801169590643</li><li>0.80374269005848</li><li>35.6491228070175</li><li>75292.3976608187</li></ol>\n"
            ]
          },
          "metadata": {}
        },
        {
          "output_type": "display_data",
          "data": {
            "text/plain": [
              "[1]   51.11111   19.32222  200.00000 3980.55556"
            ],
            "text/latex": "\\begin{enumerate*}\n\\item 51.1111111111111\n\\item 19.3222222222222\n\\item 200\n\\item 3980.55555555556\n\\end{enumerate*}\n",
            "text/markdown": "1. 51.1111111111111\n2. 19.3222222222222\n3. 200\n4. 3980.55555555556\n\n\n",
            "text/html": [
              "<style>\n",
              ".list-inline {list-style: none; margin:0; padding: 0}\n",
              ".list-inline>li {display: inline-block}\n",
              ".list-inline>li:not(:last-child)::after {content: \"\\00b7\"; padding: 0 .5ex}\n",
              "</style>\n",
              "<ol class=list-inline><li>51.1111111111111</li><li>19.3222222222222</li><li>200</li><li>3980.55555555556</li></ol>\n"
            ]
          },
          "metadata": {}
        },
        {
          "output_type": "display_data",
          "data": {
            "text/plain": [
              "[1] 8.561111e-01 5.594444e-01 2.300000e+01 1.874653e+05"
            ],
            "text/latex": "\\begin{enumerate*}\n\\item 0.856111111111112\n\\item 0.559444444444444\n\\item 23\n\\item 187465.277777778\n\\end{enumerate*}\n",
            "text/markdown": "1. 0.856111111111112\n2. 0.559444444444444\n3. 23\n4. 187465.277777778\n\n\n",
            "text/html": [
              "<style>\n",
              ".list-inline {list-style: none; margin:0; padding: 0}\n",
              ".list-inline>li {display: inline-block}\n",
              ".list-inline>li:not(:last-child)::after {content: \"\\00b7\"; padding: 0 .5ex}\n",
              "</style>\n",
              "<ol class=list-inline><li>0.856111111111112</li><li>0.559444444444444</li><li>23</li><li>187465.277777778</li></ol>\n"
            ]
          },
          "metadata": {}
        },
        {
          "output_type": "display_data",
          "data": {
            "text/plain": [
              "[1]   45.53333   17.60000  189.77778 3497.22222"
            ],
            "text/latex": "\\begin{enumerate*}\n\\item 45.5333333333333\n\\item 17.6\n\\item 189.777777777778\n\\item 3497.22222222222\n\\end{enumerate*}\n",
            "text/markdown": "1. 45.5333333333333\n2. 17.6\n3. 189.777777777778\n4. 3497.22222222222\n\n\n",
            "text/html": [
              "<style>\n",
              ".list-inline {list-style: none; margin:0; padding: 0}\n",
              ".list-inline>li {display: inline-block}\n",
              ".list-inline>li:not(:last-child)::after {content: \"\\00b7\"; padding: 0 .5ex}\n",
              "</style>\n",
              "<ol class=list-inline><li>45.5333333333333</li><li>17.6</li><li>189.777777777778</li><li>3497.22222222222</li></ol>\n"
            ]
          },
          "metadata": {}
        },
        {
          "output_type": "display_data",
          "data": {
            "text/plain": [
              "[1]     6.95250     0.37500    19.69444 30694.44444"
            ],
            "text/latex": "\\begin{enumerate*}\n\\item 6.9525\n\\item 0.375\n\\item 19.6944444444444\n\\item 30694.4444444444\n\\end{enumerate*}\n",
            "text/markdown": "1. 6.9525\n2. 0.375\n3. 19.6944444444444\n4. 30694.4444444444\n\n\n",
            "text/html": [
              "<style>\n",
              ".list-inline {list-style: none; margin:0; padding: 0}\n",
              ".list-inline>li {display: inline-block}\n",
              ".list-inline>li:not(:last-child)::after {content: \"\\00b7\"; padding: 0 .5ex}\n",
              "</style>\n",
              "<ol class=list-inline><li>6.9525</li><li>0.375</li><li>19.6944444444444</li><li>30694.4444444444</li></ol>\n"
            ]
          },
          "metadata": {}
        },
        {
          "output_type": "display_data",
          "data": {
            "text/plain": [
              "[1]   49.78235   15.85882  222.11765 5372.05882"
            ],
            "text/latex": "\\begin{enumerate*}\n\\item 49.7823529411765\n\\item 15.8588235294118\n\\item 222.117647058824\n\\item 5372.05882352941\n\\end{enumerate*}\n",
            "text/markdown": "1. 49.7823529411765\n2. 15.8588235294118\n3. 222.117647058824\n4. 5372.05882352941\n\n\n",
            "text/html": [
              "<style>\n",
              ".list-inline {list-style: none; margin:0; padding: 0}\n",
              ".list-inline>li {display: inline-block}\n",
              ".list-inline>li:not(:last-child)::after {content: \"\\00b7\"; padding: 0 .5ex}\n",
              "</style>\n",
              "<ol class=list-inline><li>49.7823529411765</li><li>15.8588235294118</li><li>222.117647058824</li><li>5372.05882352941</li></ol>\n"
            ]
          },
          "metadata": {}
        },
        {
          "output_type": "display_data",
          "data": {
            "text/plain": [
              "[1] 6.760294e+00 3.038235e-01 3.098529e+01 1.304596e+05"
            ],
            "text/latex": "\\begin{enumerate*}\n\\item 6.76029411764706\n\\item 0.303823529411765\n\\item 30.9852941176471\n\\item 130459.558823529\n\\end{enumerate*}\n",
            "text/markdown": "1. 6.76029411764706\n2. 0.303823529411765\n3. 30.9852941176471\n4. 130459.558823529\n\n\n",
            "text/html": [
              "<style>\n",
              ".list-inline {list-style: none; margin:0; padding: 0}\n",
              ".list-inline>li {display: inline-block}\n",
              ".list-inline>li:not(:last-child)::after {content: \"\\00b7\"; padding: 0 .5ex}\n",
              "</style>\n",
              "<ol class=list-inline><li>6.76029411764706</li><li>0.303823529411765</li><li>30.9852941176471</li><li>130459.558823529</li></ol>\n"
            ]
          },
          "metadata": {}
        },
        {
          "output_type": "display_data",
          "data": {
            "text/plain": [
              "[1]   45.17778   14.17222  213.38889 4638.88889"
            ],
            "text/latex": "\\begin{enumerate*}\n\\item 45.1777777777778\n\\item 14.1722222222222\n\\item 213.388888888889\n\\item 4638.88888888889\n\\end{enumerate*}\n",
            "text/markdown": "1. 45.1777777777778\n2. 14.1722222222222\n3. 213.388888888889\n4. 4638.88888888889\n\n\n",
            "text/html": [
              "<style>\n",
              ".list-inline {list-style: none; margin:0; padding: 0}\n",
              ".list-inline>li {display: inline-block}\n",
              ".list-inline>li:not(:last-child)::after {content: \"\\00b7\"; padding: 0 .5ex}\n",
              "</style>\n",
              "<ol class=list-inline><li>45.1777777777778</li><li>14.1722222222222</li><li>213.388888888889</li><li>4638.88888888889</li></ol>\n"
            ]
          },
          "metadata": {}
        },
        {
          "output_type": "display_data",
          "data": {
            "text/plain": [
              "[1] 4.772418e+00 3.044771e-01 1.531046e+01 1.137663e+05"
            ],
            "text/latex": "\\begin{enumerate*}\n\\item 4.7724183006536\n\\item 0.304477124183007\n\\item 15.3104575163399\n\\item 113766.339869281\n\\end{enumerate*}\n",
            "text/markdown": "1. 4.7724183006536\n2. 0.304477124183007\n3. 15.3104575163399\n4. 113766.339869281\n\n\n",
            "text/html": [
              "<style>\n",
              ".list-inline {list-style: none; margin:0; padding: 0}\n",
              ".list-inline>li {display: inline-block}\n",
              ".list-inline>li:not(:last-child)::after {content: \"\\00b7\"; padding: 0 .5ex}\n",
              "</style>\n",
              "<ol class=list-inline><li>4.7724183006536</li><li>0.304477124183007</li><li>15.3104575163399</li><li>113766.339869281</li></ol>\n"
            ]
          },
          "metadata": {}
        }
      ]
    },
    {
      "cell_type": "code",
      "metadata": {
        "colab": {
          "base_uri": "https://localhost:8080/",
          "height": 220
        },
        "id": "bpB2RPVrkcJA",
        "outputId": "5b0d8d3c-6328-43d8-ea0e-031de0e33408"
      },
      "source": [
        "# Splitting the male and female penguin data per year\n",
        "overall_male_yearly = split(overall_genderwise_split$male, overall_genderwise_split$male$year)\n",
        "overall_female_yearly = split(overall_genderwise_split$female, overall_genderwise_split$female$year)\n",
        "\n",
        "# Calculating overall means and variances of bill_length_mm,\tbill_depth_mm,\tflipper_length_mm and body_mass_g for penguins per gender\n",
        "overall_male_2007_means = c()\n",
        "overall_male_2007_variances = c()\n",
        "overall_female_2007_means = c()\n",
        "overall_female_2007_variances = c()\n",
        "\n",
        "overall_male_2008_means = c()\n",
        "overall_male_2008_variances = c()\n",
        "overall_female_2008_means = c()\n",
        "overall_female_2008_variances = c()\n",
        "\n",
        "overall_male_2009_means = c()\n",
        "overall_male_2009_variances = c()\n",
        "overall_female_2009_means = c()\n",
        "overall_female_2009_variances = c()\n",
        "\n",
        "for (i in 3:6){\n",
        "  overall_male_2007_means = c(overall_male_2007_means, mean(unlist(overall_male_yearly$\"2007\"[i])))\n",
        "  overall_male_2007_variances = c(overall_male_2007_variances, var(unlist(overall_male_yearly$\"2007\"[i])))\n",
        "  overall_female_2007_means = c(overall_female_2007_means, mean(unlist(overall_female_yearly$\"2007\"[i])))\n",
        "  overall_female_2007_variances = c(overall_female_2007_variances, var(unlist(overall_female_yearly$\"2007\"[i])))\n",
        "\n",
        "  overall_male_2008_means = c(overall_male_2008_means, mean(unlist(overall_male_yearly$\"2008\"[i])))\n",
        "  overall_male_2008_variances = c(overall_male_2008_variances, var(unlist(overall_male_yearly$\"2008\"[i])))\n",
        "  overall_female_2008_means = c(overall_female_2008_means, mean(unlist(overall_female_yearly$\"2008\"[i])))\n",
        "  overall_female_2008_variances = c(overall_female_2008_variances, var(unlist(overall_female_yearly$\"2008\"[i])))\n",
        "\n",
        "  overall_male_2009_means = c(overall_male_2009_means, mean(unlist(overall_male_yearly$\"2009\"[i])))\n",
        "  overall_male_2009_variances = c(overall_male_2009_variances, var(unlist(overall_male_yearly$\"2009\"[i])))\n",
        "  overall_female_2009_means = c(overall_female_2009_means, mean(unlist(overall_female_yearly$\"2009\"[i])))\n",
        "  overall_female_2009_variances = c(overall_female_2009_variances, var(unlist(overall_female_yearly$\"2009\"[i])))\n",
        "}\n",
        "\n",
        "overall_male_2007_means\n",
        "overall_male_2007_variances\n",
        "overall_female_2007_means\n",
        "overall_female_2007_variances\n",
        "\n",
        "overall_male_2008_means\n",
        "overall_male_2008_variances\n",
        "overall_female_2008_means\n",
        "overall_female_2008_variances\n",
        "\n",
        "overall_male_2009_means\n",
        "overall_male_2009_variances\n",
        "overall_female_2009_means\n",
        "overall_female_2009_variances"
      ],
      "execution_count": null,
      "outputs": [
        {
          "output_type": "display_data",
          "data": {
            "text/plain": [
              "[1]   43.74   18.54  198.20 4435.00"
            ],
            "text/latex": "\\begin{enumerate*}\n\\item 43.74\n\\item 18.54\n\\item 198.2\n\\item 4435\n\\end{enumerate*}\n",
            "text/markdown": "1. 43.74\n2. 18.54\n3. 198.2\n4. 4435\n\n\n",
            "text/html": [
              "<style>\n",
              ".list-inline {list-style: none; margin:0; padding: 0}\n",
              ".list-inline>li {display: inline-block}\n",
              ".list-inline>li:not(:last-child)::after {content: \"\\00b7\"; padding: 0 .5ex}\n",
              "</style>\n",
              "<ol class=list-inline><li>43.74</li><li>18.54</li><li>198.2</li><li>4435</li></ol>\n"
            ]
          },
          "metadata": {}
        },
        {
          "output_type": "display_data",
          "data": {
            "text/plain": [
              "[1] 2.749543e+01 4.509714e+00 1.724571e+02 3.953393e+05"
            ],
            "text/latex": "\\begin{enumerate*}\n\\item 27.4954285714286\n\\item 4.50971428571429\n\\item 172.457142857143\n\\item 395339.285714286\n\\end{enumerate*}\n",
            "text/markdown": "1. 27.4954285714286\n2. 4.50971428571429\n3. 172.457142857143\n4. 395339.285714286\n\n\n",
            "text/html": [
              "<style>\n",
              ".list-inline {list-style: none; margin:0; padding: 0}\n",
              ".list-inline>li {display: inline-block}\n",
              ".list-inline>li:not(:last-child)::after {content: \"\\00b7\"; padding: 0 .5ex}\n",
              "</style>\n",
              "<ol class=list-inline><li>27.4954285714286</li><li>4.50971428571429</li><li>172.457142857143</li><li>395339.285714286</li></ol>\n"
            ]
          },
          "metadata": {}
        },
        {
          "output_type": "display_data",
          "data": {
            "text/plain": [
              "[1]   42.07692   16.58462  195.76923 3890.38462"
            ],
            "text/latex": "\\begin{enumerate*}\n\\item 42.0769230769231\n\\item 16.5846153846154\n\\item 195.769230769231\n\\item 3890.38461538462\n\\end{enumerate*}\n",
            "text/markdown": "1. 42.0769230769231\n2. 16.5846153846154\n3. 195.769230769231\n4. 3890.38461538462\n\n\n",
            "text/html": [
              "<style>\n",
              ".list-inline {list-style: none; margin:0; padding: 0}\n",
              ".list-inline>li {display: inline-block}\n",
              ".list-inline>li:not(:last-child)::after {content: \"\\00b7\"; padding: 0 .5ex}\n",
              "</style>\n",
              "<ol class=list-inline><li>42.0769230769231</li><li>16.5846153846154</li><li>195.769230769231</li><li>3890.38461538462</li></ol>\n"
            ]
          },
          "metadata": {}
        },
        {
          "output_type": "display_data",
          "data": {
            "text/plain": [
              "[1] 1.638859e+01 5.489744e+00 2.025256e+02 4.116186e+05"
            ],
            "text/latex": "\\begin{enumerate*}\n\\item 16.3885897435897\n\\item 5.48974358974359\n\\item 202.525641025641\n\\item 411618.58974359\n\\end{enumerate*}\n",
            "text/markdown": "1. 16.3885897435897\n2. 5.48974358974359\n3. 202.525641025641\n4. 411618.58974359\n\n\n",
            "text/html": [
              "<style>\n",
              ".list-inline {list-style: none; margin:0; padding: 0}\n",
              ".list-inline>li {display: inline-block}\n",
              ".list-inline>li:not(:last-child)::after {content: \"\\00b7\"; padding: 0 .5ex}\n",
              "</style>\n",
              "<ol class=list-inline><li>16.3885897435897</li><li>5.48974358974359</li><li>202.525641025641</li><li>411618.58974359</li></ol>\n"
            ]
          },
          "metadata": {}
        },
        {
          "output_type": "display_data",
          "data": {
            "text/plain": [
              "[1]   44.97222   18.05556  202.27778 4413.88889"
            ],
            "text/latex": "\\begin{enumerate*}\n\\item 44.9722222222222\n\\item 18.0555555555556\n\\item 202.277777777778\n\\item 4413.88888888889\n\\end{enumerate*}\n",
            "text/markdown": "1. 44.9722222222222\n2. 18.0555555555556\n3. 202.277777777778\n4. 4413.88888888889\n\n\n",
            "text/html": [
              "<style>\n",
              ".list-inline {list-style: none; margin:0; padding: 0}\n",
              ".list-inline>li {display: inline-block}\n",
              ".list-inline>li:not(:last-child)::after {content: \"\\00b7\"; padding: 0 .5ex}\n",
              "</style>\n",
              "<ol class=list-inline><li>44.9722222222222</li><li>18.0555555555556</li><li>202.277777777778</li><li>4413.88888888889</li></ol>\n"
            ]
          },
          "metadata": {}
        },
        {
          "output_type": "display_data",
          "data": {
            "text/plain": [
              "[1] 2.711859e+01 2.806144e+00 2.029183e+02 3.870016e+05"
            ],
            "text/latex": "\\begin{enumerate*}\n\\item 27.1185947712418\n\\item 2.80614379084967\n\\item 202.918300653595\n\\item 387001.633986928\n\\end{enumerate*}\n",
            "text/markdown": "1. 27.1185947712418\n2. 2.80614379084967\n3. 202.918300653595\n4. 387001.633986928\n\n\n",
            "text/html": [
              "<style>\n",
              ".list-inline {list-style: none; margin:0; padding: 0}\n",
              ".list-inline>li {display: inline-block}\n",
              ".list-inline>li:not(:last-child)::after {content: \"\\00b7\"; padding: 0 .5ex}\n",
              "</style>\n",
              "<ol class=list-inline><li>27.1185947712418</li><li>2.80614379084967</li><li>202.918300653595</li><li>387001.633986928</li></ol>\n"
            ]
          },
          "metadata": {}
        },
        {
          "output_type": "display_data",
          "data": {
            "text/plain": [
              "[1]   40.89565   16.25652  199.34783 3873.91304"
            ],
            "text/latex": "\\begin{enumerate*}\n\\item 40.895652173913\n\\item 16.2565217391304\n\\item 199.347826086957\n\\item 3873.91304347826\n\\end{enumerate*}\n",
            "text/markdown": "1. 40.895652173913\n2. 16.2565217391304\n3. 199.347826086957\n4. 3873.91304347826\n\n\n",
            "text/html": [
              "<style>\n",
              ".list-inline {list-style: none; margin:0; padding: 0}\n",
              ".list-inline>li {display: inline-block}\n",
              ".list-inline>li:not(:last-child)::after {content: \"\\00b7\"; padding: 0 .5ex}\n",
              "</style>\n",
              "<ol class=list-inline><li>40.895652173913</li><li>16.2565217391304</li><li>199.347826086957</li><li>3873.91304347826</li></ol>\n"
            ]
          },
          "metadata": {}
        },
        {
          "output_type": "display_data",
          "data": {
            "text/plain": [
              "[1]     22.87771      3.45166    184.41897 494970.35573"
            ],
            "text/latex": "\\begin{enumerate*}\n\\item 22.8777075098814\n\\item 3.45166007905138\n\\item 184.418972332016\n\\item 494970.355731225\n\\end{enumerate*}\n",
            "text/markdown": "1. 22.8777075098814\n2. 3.45166007905138\n3. 184.418972332016\n4. 494970.355731225\n\n\n",
            "text/html": [
              "<style>\n",
              ".list-inline {list-style: none; margin:0; padding: 0}\n",
              ".list-inline>li {display: inline-block}\n",
              ".list-inline>li:not(:last-child)::after {content: \"\\00b7\"; padding: 0 .5ex}\n",
              "</style>\n",
              "<ol class=list-inline><li>22.8777075098814</li><li>3.45166007905138</li><li>184.418972332016</li><li>494970.355731225</li></ol>\n"
            ]
          },
          "metadata": {}
        },
        {
          "output_type": "display_data",
          "data": {
            "text/plain": [
              "[1]   46.74762   17.80476  207.38095 4589.28571"
            ],
            "text/latex": "\\begin{enumerate*}\n\\item 46.747619047619\n\\item 17.8047619047619\n\\item 207.380952380952\n\\item 4589.28571428571\n\\end{enumerate*}\n",
            "text/markdown": "1. 46.747619047619\n2. 17.8047619047619\n3. 207.380952380952\n4. 4589.28571428571\n\n\n",
            "text/html": [
              "<style>\n",
              ".list-inline {list-style: none; margin:0; padding: 0}\n",
              ".list-inline>li {display: inline-block}\n",
              ".list-inline>li:not(:last-child)::after {content: \"\\00b7\"; padding: 0 .5ex}\n",
              "</style>\n",
              "<ol class=list-inline><li>46.747619047619</li><li>17.8047619047619</li><li>207.380952380952</li><li>4589.28571428571</li></ol>\n"
            ]
          },
          "metadata": {}
        },
        {
          "output_type": "display_data",
          "data": {
            "text/plain": [
              "[1] 3.145662e+01 2.255476e+00 2.052476e+02 6.964107e+05"
            ],
            "text/latex": "\\begin{enumerate*}\n\\item 31.456619047619\n\\item 2.25547619047619\n\\item 205.247619047619\n\\item 696410.714285714\n\\end{enumerate*}\n",
            "text/markdown": "1. 31.456619047619\n2. 2.25547619047619\n3. 205.247619047619\n4. 696410.714285714\n\n\n",
            "text/html": [
              "<style>\n",
              ".list-inline {list-style: none; margin:0; padding: 0}\n",
              ".list-inline>li {display: inline-block}\n",
              ".list-inline>li:not(:last-child)::after {content: \"\\00b7\"; padding: 0 .5ex}\n",
              "</style>\n",
              "<ol class=list-inline><li>31.456619047619</li><li>2.25547619047619</li><li>205.247619047619</li><li>696410.714285714</li></ol>\n"
            ]
          },
          "metadata": {}
        },
        {
          "output_type": "display_data",
          "data": {
            "text/plain": [
              "[1]   43.53   16.32  199.60 3925.00"
            ],
            "text/latex": "\\begin{enumerate*}\n\\item 43.53\n\\item 16.32\n\\item 199.6\n\\item 3925\n\\end{enumerate*}\n",
            "text/markdown": "1. 43.53\n2. 16.32\n3. 199.6\n4. 3925\n\n\n",
            "text/html": [
              "<style>\n",
              ".list-inline {list-style: none; margin:0; padding: 0}\n",
              ".list-inline>li {display: inline-block}\n",
              ".list-inline>li:not(:last-child)::after {content: \"\\00b7\"; padding: 0 .5ex}\n",
              "</style>\n",
              "<ol class=list-inline><li>43.53</li><li>16.32</li><li>199.6</li><li>3925</li></ol>\n"
            ]
          },
          "metadata": {}
        },
        {
          "output_type": "display_data",
          "data": {
            "text/plain": [
              "[1] 2.580900e+01 2.470667e+00 1.236000e+02 4.880556e+05"
            ],
            "text/latex": "\\begin{enumerate*}\n\\item 25.809\n\\item 2.47066666666667\n\\item 123.6\n\\item 488055.555555556\n\\end{enumerate*}\n",
            "text/markdown": "1. 25.809\n2. 2.47066666666667\n3. 123.6\n4. 488055.555555556\n\n\n",
            "text/html": [
              "<style>\n",
              ".list-inline {list-style: none; margin:0; padding: 0}\n",
              ".list-inline>li {display: inline-block}\n",
              ".list-inline>li:not(:last-child)::after {content: \"\\00b7\"; padding: 0 .5ex}\n",
              "</style>\n",
              "<ol class=list-inline><li>25.809</li><li>2.47066666666667</li><li>123.6</li><li>488055.555555556</li></ol>\n"
            ]
          },
          "metadata": {}
        }
      ]
    },
    {
      "cell_type": "code",
      "metadata": {
        "colab": {
          "base_uri": "https://localhost:8080/",
          "height": 625
        },
        "id": "qgNENhvBkeTf",
        "outputId": "318c855f-99b1-4243-8965-3d1f9c4e8028"
      },
      "source": [
        "# Splitting the male and female penguin species data per year\n",
        "overall_male_adelie_yearly = split(overall_male_species$Adelie, overall_male_species$Adelie$year)\n",
        "overall_female_adelie_yearly = split(overall_female_species$Adelie, overall_female_species$Adelie$year)\n",
        "\n",
        "overall_male_chinstrap_yearly = split(overall_male_species$Chinstrap, overall_male_species$Chinstrap$year)\n",
        "overall_female_chinstrap_yearly = split(overall_female_species$Chinstrap, overall_female_species$Chinstrap$year)\n",
        "\n",
        "overall_male_gentoo_yearly = split(overall_male_species$Gentoo, overall_male_species$Gentoo$year)\n",
        "overall_female_gentoo_yearly = split(overall_female_species$Gentoo, overall_female_species$Gentoo$year)\n",
        "\n",
        "# Calculating overall means and variances of bill_length_mm,\tbill_depth_mm,\tflipper_length_mm and body_mass_g for penguins per gender\n",
        "overall_male_adelie_2007_means = c()\n",
        "overall_male_adelie_2007_variances = c()\n",
        "overall_female_adelie_2007_means = c()\n",
        "overall_female_adelie_2007_variances = c()\n",
        "\n",
        "overall_male_adelie_2008_means = c()\n",
        "overall_male_adelie_2008_variances = c()\n",
        "overall_female_adelie_2008_means = c()\n",
        "overall_female_adelie_2008_variances = c()\n",
        "\n",
        "overall_male_adelie_2009_means = c()\n",
        "overall_male_adelie_2009_variances = c()\n",
        "overall_female_adelie_2009_means = c()\n",
        "overall_female_adelie_2009_variances = c()\n",
        "\n",
        "overall_male_chinstrap_2007_means = c()\n",
        "overall_male_chinstrap_2007_variances = c()\n",
        "overall_female_chinstrap_2007_means = c()\n",
        "overall_female_chinstrap_2007_variances = c()\n",
        "\n",
        "overall_male_chinstrap_2008_means = c()\n",
        "overall_male_chinstrap_2008_variances = c()\n",
        "overall_female_chinstrap_2008_means = c()\n",
        "overall_female_chinstrap_2008_variances = c()\n",
        "\n",
        "overall_male_chinstrap_2009_means = c()\n",
        "overall_male_chinstrap_2009_variances = c()\n",
        "overall_female_chinstrap_2009_means = c()\n",
        "overall_female_chinstrap_2009_variances = c()\n",
        "\n",
        "overall_male_gentoo_2007_means = c()\n",
        "overall_male_gentoo_2007_variances = c()\n",
        "overall_female_gentoo_2007_means = c()\n",
        "overall_female_gentoo_2007_variances = c()\n",
        "\n",
        "overall_male_gentoo_2008_means = c()\n",
        "overall_male_gentoo_2008_variances = c()\n",
        "overall_female_gentoo_2008_means = c()\n",
        "overall_female_gentoo_2008_variances = c()\n",
        "\n",
        "overall_male_gentoo_2009_means = c()\n",
        "overall_male_gentoo_2009_variances = c()\n",
        "overall_female_gentoo_2009_means = c()\n",
        "overall_female_gentoo_2009_variances = c()\n",
        "\n",
        "\n",
        "for (i in 3:6){\n",
        "  overall_male_adelie_2007_means = c( overall_male_adelie_2007_means, mean(unlist(overall_male_adelie_yearly$\"2007\"[i])))\n",
        "  overall_male_adelie_2007_variances = c( overall_male_adelie_2007_variances, var(unlist(overall_male_adelie_yearly$\"2007\"[i])))\n",
        "  overall_female_adelie_2007_means = c(overall_female_adelie_2007_means, mean(unlist(overall_female_adelie_yearly$\"2007\"[i])))\n",
        "  overall_female_adelie_2007_variances = c(overall_female_adelie_2007_variances, var(unlist(overall_female_adelie_yearly$\"2007\"[i])))\n",
        "\n",
        "  overall_male_adelie_2008_means = c(overall_male_adelie_2008_means, mean(unlist(overall_male_adelie_yearly$\"2008\"[i])))\n",
        "  overall_male_adelie_2008_variances = c(overall_male_adelie_2008_variances, var(unlist(overall_male_adelie_yearly$\"2008\"[i])))\n",
        "  overall_female_adelie_2008_means = c(overall_female_adelie_2008_means, mean(unlist(overall_female_adelie_yearly$\"2008\"[i])))\n",
        "  overall_female_adelie_2008_variances = c(overall_female_adelie_2008_variances, var(unlist(overall_female_adelie_yearly$\"2008\"[i])))\n",
        "\n",
        "  overall_male_adelie_2009_means = c(overall_male_adelie_2009_means, mean(unlist(overall_male_adelie_yearly$\"2009\"[i])))\n",
        "  overall_male_adelie_2009_variances = c(overall_male_adelie_2009_variances, var(unlist(overall_male_adelie_yearly$\"2009\"[i])))\n",
        "  overall_female_adelie_2009_means = c(overall_female_adelie_2009_means, mean(unlist(overall_female_adelie_yearly$\"2009\"[i])))\n",
        "  overall_female_adelie_2009_variances = c(overall_female_adelie_2009_variances, var(unlist(overall_female_adelie_yearly$\"2009\"[i])))\n",
        "\n",
        "  overall_male_chinstrap_2007_means = c( overall_male_chinstrap_2007_means, mean(unlist(overall_male_chinstrap_yearly$\"2007\"[i])))\n",
        "  overall_male_chinstrap_2007_variances = c( overall_male_chinstrap_2007_variances, var(unlist(overall_male_chinstrap_yearly$\"2007\"[i])))\n",
        "  overall_female_chinstrap_2007_means = c(overall_female_chinstrap_2007_means, mean(unlist(overall_female_chinstrap_yearly$\"2007\"[i])))\n",
        "  overall_female_chinstrap_2007_variances = c(overall_female_chinstrap_2007_variances, var(unlist(overall_female_chinstrap_yearly$\"2007\"[i])))\n",
        "\n",
        "  overall_male_chinstrap_2008_means = c(overall_male_chinstrap_2008_means, mean(unlist(overall_male_chinstrap_yearly$\"2008\"[i])))\n",
        "  overall_male_chinstrap_2008_variances = c(overall_male_chinstrap_2008_variances, var(unlist(overall_male_chinstrap_yearly$\"2008\"[i])))\n",
        "  overall_female_chinstrap_2008_means = c(overall_female_chinstrap_2008_means, mean(unlist(overall_female_chinstrap_yearly$\"2008\"[i])))\n",
        "  overall_female_chinstrap_2008_variances = c(overall_female_chinstrap_2008_variances, var(unlist(overall_female_chinstrap_yearly$\"2008\"[i])))\n",
        "\n",
        "  overall_male_chinstrap_2009_means = c(overall_male_chinstrap_2009_means, mean(unlist(overall_male_chinstrap_yearly$\"2009\"[i])))\n",
        "  overall_male_chinstrap_2009_variances = c(overall_male_chinstrap_2009_variances, var(unlist(overall_male_chinstrap_yearly$\"2009\"[i])))\n",
        "  overall_female_chinstrap_2009_means = c(overall_female_chinstrap_2009_means, mean(unlist(overall_female_chinstrap_yearly$\"2009\"[i])))\n",
        "  overall_female_chinstrap_2009_variances = c(overall_female_chinstrap_2009_variances, var(unlist(overall_female_chinstrap_yearly$\"2009\"[i])))\n",
        "\n",
        "  overall_male_gentoo_2007_means = c( overall_male_gentoo_2007_means, mean(unlist(overall_male_gentoo_yearly$\"2007\"[i])))\n",
        "  overall_male_gentoo_2007_variances = c( overall_male_gentoo_2007_variances, var(unlist(overall_male_gentoo_yearly$\"2007\"[i])))\n",
        "  overall_female_gentoo_2007_means = c(overall_female_gentoo_2007_means, mean(unlist(overall_female_gentoo_yearly$\"2007\"[i])))\n",
        "  overall_female_gentoo_2007_variances = c(overall_female_gentoo_2007_variances, var(unlist(overall_female_gentoo_yearly$\"2007\"[i])))\n",
        "\n",
        "  overall_male_gentoo_2008_means = c(overall_male_gentoo_2008_means, mean(unlist(overall_male_gentoo_yearly$\"2008\"[i])))\n",
        "  overall_male_gentoo_2008_variances = c(overall_male_gentoo_2008_variances, var(unlist(overall_male_gentoo_yearly$\"2008\"[i])))\n",
        "  overall_female_gentoo_2008_means = c(overall_female_gentoo_2008_means, mean(unlist(overall_female_gentoo_yearly$\"2008\"[i])))\n",
        "  overall_female_gentoo_2008_variances = c(overall_female_gentoo_2008_variances, var(unlist(overall_female_gentoo_yearly$\"2008\"[i])))\n",
        "\n",
        "  overall_male_gentoo_2009_means = c(overall_male_gentoo_2009_means, mean(unlist(overall_male_gentoo_yearly$\"2009\"[i])))\n",
        "  overall_male_gentoo_2009_variances = c(overall_male_gentoo_2009_variances, var(unlist(overall_male_gentoo_yearly$\"2009\"[i])))\n",
        "  overall_female_gentoo_2009_means = c(overall_female_gentoo_2009_means, mean(unlist(overall_female_gentoo_yearly$\"2009\"[i])))\n",
        "  overall_female_gentoo_2009_variances = c(overall_female_gentoo_2009_variances, var(unlist(overall_female_gentoo_yearly$\"2009\"[i])))\n",
        "}\n",
        "\n",
        "overall_male_adelie_2007_means\n",
        "overall_male_adelie_2007_variances\n",
        "overall_female_adelie_2007_means\n",
        "overall_female_adelie_2007_variances\n",
        "\n",
        "overall_male_adelie_2008_means\n",
        "overall_male_adelie_2008_variances\n",
        "overall_female_adelie_2008_means\n",
        "overall_female_adelie_2008_variances\n",
        "\n",
        "overall_male_adelie_2009_means\n",
        "overall_male_adelie_2009_variances\n",
        "overall_female_adelie_2009_means\n",
        "overall_female_adelie_2009_variances\n",
        "\n",
        "overall_male_chinstrap_2007_means\n",
        "overall_male_chinstrap_2007_variances\n",
        "overall_female_chinstrap_2007_means\n",
        "overall_female_chinstrap_2007_variances\n",
        "\n",
        "overall_male_chinstrap_2008_means\n",
        "overall_male_chinstrap_2008_variances\n",
        "overall_female_chinstrap_2008_means\n",
        "overall_female_chinstrap_2008_variances\n",
        "\n",
        "overall_male_chinstrap_2009_means\n",
        "overall_male_chinstrap_2009_variances\n",
        "overall_female_chinstrap_2009_means\n",
        "overall_female_chinstrap_2009_variances\n",
        "\n",
        "overall_male_gentoo_2007_means\n",
        "overall_male_gentoo_2007_variances\n",
        "overall_female_gentoo_2007_means\n",
        "overall_female_gentoo_2007_variances\n",
        "\n",
        "overall_male_gentoo_2008_means\n",
        "overall_male_gentoo_2008_variances\n",
        "overall_female_gentoo_2008_means\n",
        "overall_female_gentoo_2008_variances\n",
        "\n",
        "overall_male_gentoo_2009_means\n",
        "overall_male_gentoo_2009_variances\n",
        "overall_female_gentoo_2009_means\n",
        "overall_female_gentoo_2009_variances"
      ],
      "execution_count": null,
      "outputs": [
        {
          "output_type": "display_data",
          "data": {
            "text/plain": [
              "[1]   40.30000   19.62222  190.33333 4144.44444"
            ],
            "text/latex": "\\begin{enumerate*}\n\\item 40.3\n\\item 19.6222222222222\n\\item 190.333333333333\n\\item 4144.44444444444\n\\end{enumerate*}\n",
            "text/markdown": "1. 40.3\n2. 19.6222222222222\n3. 190.333333333333\n4. 4144.44444444444\n\n\n",
            "text/html": [
              "<style>\n",
              ".list-inline {list-style: none; margin:0; padding: 0}\n",
              ".list-inline>li {display: inline-block}\n",
              ".list-inline>li:not(:last-child)::after {content: \"\\00b7\"; padding: 0 .5ex}\n",
              "</style>\n",
              "<ol class=list-inline><li>40.3</li><li>19.6222222222222</li><li>190.333333333333</li><li>4144.44444444444</li></ol>\n"
            ]
          },
          "metadata": {}
        },
        {
          "output_type": "display_data",
          "data": {
            "text/plain": [
              "[1]    10.917500     1.669444    44.250000 87777.777778"
            ],
            "text/latex": "\\begin{enumerate*}\n\\item 10.9175\n\\item 1.66944444444445\n\\item 44.25\n\\item 87777.7777777778\n\\end{enumerate*}\n",
            "text/markdown": "1. 10.9175\n2. 1.66944444444445\n3. 44.25\n4. 87777.7777777778\n\n\n",
            "text/html": [
              "<style>\n",
              ".list-inline {list-style: none; margin:0; padding: 0}\n",
              ".list-inline>li {display: inline-block}\n",
              ".list-inline>li:not(:last-child)::after {content: \"\\00b7\"; padding: 0 .5ex}\n",
              "</style>\n",
              "<ol class=list-inline><li>10.9175</li><li>1.66944444444445</li><li>44.25</li><li>87777.7777777778</li></ol>\n"
            ]
          },
          "metadata": {}
        },
        {
          "output_type": "display_data",
          "data": {
            "text/plain": [
              "[1]   36.825   18.825  182.500 3400.000"
            ],
            "text/latex": "\\begin{enumerate*}\n\\item 36.825\n\\item 18.825\n\\item 182.5\n\\item 3400\n\\end{enumerate*}\n",
            "text/markdown": "1. 36.825\n2. 18.825\n3. 182.5\n4. 3400\n\n\n",
            "text/html": [
              "<style>\n",
              ".list-inline {list-style: none; margin:0; padding: 0}\n",
              ".list-inline>li {display: inline-block}\n",
              ".list-inline>li:not(:last-child)::after {content: \"\\00b7\"; padding: 0 .5ex}\n",
              "</style>\n",
              "<ol class=list-inline><li>36.825</li><li>18.825</li><li>182.5</li><li>3400</li></ol>\n"
            ]
          },
          "metadata": {}
        },
        {
          "output_type": "display_data",
          "data": {
            "text/plain": [
              "[1] 1.029167e+00 2.491667e-01 4.300000e+01 8.666667e+04"
            ],
            "text/latex": "\\begin{enumerate*}\n\\item 1.02916666666667\n\\item 0.249166666666666\n\\item 43\n\\item 86666.6666666667\n\\end{enumerate*}\n",
            "text/markdown": "1. 1.02916666666667\n2. 0.249166666666666\n3. 43\n4. 86666.6666666667\n\n\n",
            "text/html": [
              "<style>\n",
              ".list-inline {list-style: none; margin:0; padding: 0}\n",
              ".list-inline>li {display: inline-block}\n",
              ".list-inline>li:not(:last-child)::after {content: \"\\00b7\"; padding: 0 .5ex}\n",
              "</style>\n",
              "<ol class=list-inline><li>1.02916666666667</li><li>0.249166666666666</li><li>43</li><li>86666.6666666667</li></ol>\n"
            ]
          },
          "metadata": {}
        },
        {
          "output_type": "display_data",
          "data": {
            "text/plain": [
              "[1]   40.89   18.79  192.10 4120.00"
            ],
            "text/latex": "\\begin{enumerate*}\n\\item 40.89\n\\item 18.79\n\\item 192.1\n\\item 4120\n\\end{enumerate*}\n",
            "text/markdown": "1. 40.89\n2. 18.79\n3. 192.1\n4. 4120\n\n\n",
            "text/html": [
              "<style>\n",
              ".list-inline {list-style: none; margin:0; padding: 0}\n",
              ".list-inline>li {display: inline-block}\n",
              ".list-inline>li:not(:last-child)::after {content: \"\\00b7\"; padding: 0 .5ex}\n",
              "</style>\n",
              "<ol class=list-inline><li>40.89</li><li>18.79</li><li>192.1</li><li>4120</li></ol>\n"
            ]
          },
          "metadata": {}
        },
        {
          "output_type": "display_data",
          "data": {
            "text/plain": [
              "[1] 8.594333e+00 2.676667e-01 1.076667e+01 6.344444e+04"
            ],
            "text/latex": "\\begin{enumerate*}\n\\item 8.59433333333333\n\\item 0.267666666666666\n\\item 10.7666666666667\n\\item 63444.4444444444\n\\end{enumerate*}\n",
            "text/markdown": "1. 8.59433333333333\n2. 0.267666666666666\n3. 10.7666666666667\n4. 63444.4444444444\n\n\n",
            "text/html": [
              "<style>\n",
              ".list-inline {list-style: none; margin:0; padding: 0}\n",
              ".list-inline>li {display: inline-block}\n",
              ".list-inline>li:not(:last-child)::after {content: \"\\00b7\"; padding: 0 .5ex}\n",
              "</style>\n",
              "<ol class=list-inline><li>8.59433333333333</li><li>0.267666666666666</li><li>10.7666666666667</li><li>63444.4444444444</li></ol>\n"
            ]
          },
          "metadata": {}
        },
        {
          "output_type": "display_data",
          "data": {
            "text/plain": [
              "[1]   36.76667   17.61667  189.16667 3362.50000"
            ],
            "text/latex": "\\begin{enumerate*}\n\\item 36.7666666666667\n\\item 17.6166666666667\n\\item 189.166666666667\n\\item 3362.5\n\\end{enumerate*}\n",
            "text/markdown": "1. 36.7666666666667\n2. 17.6166666666667\n3. 189.166666666667\n4. 3362.5\n\n\n",
            "text/html": [
              "<style>\n",
              ".list-inline {list-style: none; margin:0; padding: 0}\n",
              ".list-inline>li {display: inline-block}\n",
              ".list-inline>li:not(:last-child)::after {content: \"\\00b7\"; padding: 0 .5ex}\n",
              "</style>\n",
              "<ol class=list-inline><li>36.7666666666667</li><li>17.6166666666667</li><li>189.166666666667</li><li>3362.5</li></ol>\n"
            ]
          },
          "metadata": {}
        },
        {
          "output_type": "display_data",
          "data": {
            "text/plain": [
              "[1] 3.006061e+00 7.742424e-01 2.742424e+01 9.596591e+04"
            ],
            "text/latex": "\\begin{enumerate*}\n\\item 3.00606060606061\n\\item 0.774242424242425\n\\item 27.4242424242424\n\\item 95965.9090909091\n\\end{enumerate*}\n",
            "text/markdown": "1. 3.00606060606061\n2. 0.774242424242425\n3. 27.4242424242424\n4. 95965.9090909091\n\n\n",
            "text/html": [
              "<style>\n",
              ".list-inline {list-style: none; margin:0; padding: 0}\n",
              ".list-inline>li {display: inline-block}\n",
              ".list-inline>li:not(:last-child)::after {content: \"\\00b7\"; padding: 0 .5ex}\n",
              "</style>\n",
              "<ol class=list-inline><li>3.00606060606061</li><li>0.774242424242425</li><li>27.4242424242424</li><li>95965.9090909091</li></ol>\n"
            ]
          },
          "metadata": {}
        },
        {
          "output_type": "display_data",
          "data": {
            "text/plain": [
              "[1]   41.04444   18.77778  195.44444 4077.77778"
            ],
            "text/latex": "\\begin{enumerate*}\n\\item 41.0444444444444\n\\item 18.7777777777778\n\\item 195.444444444444\n\\item 4077.77777777778\n\\end{enumerate*}\n",
            "text/markdown": "1. 41.0444444444444\n2. 18.7777777777778\n3. 195.444444444444\n4. 4077.77777777778\n\n\n",
            "text/html": [
              "<style>\n",
              ".list-inline {list-style: none; margin:0; padding: 0}\n",
              ".list-inline>li {display: inline-block}\n",
              ".list-inline>li:not(:last-child)::after {content: \"\\00b7\"; padding: 0 .5ex}\n",
              "</style>\n",
              "<ol class=list-inline><li>41.0444444444444</li><li>18.7777777777778</li><li>195.444444444444</li><li>4077.77777777778</li></ol>\n"
            ]
          },
          "metadata": {}
        },
        {
          "output_type": "display_data",
          "data": {
            "text/plain": [
              "[1] 6.235278e+00 8.794444e-01 1.952778e+01 2.503819e+05"
            ],
            "text/latex": "\\begin{enumerate*}\n\\item 6.23527777777778\n\\item 0.879444444444445\n\\item 19.5277777777778\n\\item 250381.944444444\n\\end{enumerate*}\n",
            "text/markdown": "1. 6.23527777777778\n2. 0.879444444444445\n3. 19.5277777777778\n4. 250381.944444444\n\n\n",
            "text/html": [
              "<style>\n",
              ".list-inline {list-style: none; margin:0; padding: 0}\n",
              ".list-inline>li {display: inline-block}\n",
              ".list-inline>li:not(:last-child)::after {content: \"\\00b7\"; padding: 0 .5ex}\n",
              "</style>\n",
              "<ol class=list-inline><li>6.23527777777778</li><li>0.879444444444445</li><li>19.5277777777778</li><li>250381.944444444</li></ol>\n"
            ]
          },
          "metadata": {}
        },
        {
          "output_type": "display_data",
          "data": {
            "text/plain": [
              "[1]   37.13333   17.50000  192.33333 3333.33333"
            ],
            "text/latex": "\\begin{enumerate*}\n\\item 37.1333333333333\n\\item 17.5\n\\item 192.333333333333\n\\item 3333.33333333333\n\\end{enumerate*}\n",
            "text/markdown": "1. 37.1333333333333\n2. 17.5\n3. 192.333333333333\n4. 3333.33333333333\n\n\n",
            "text/html": [
              "<style>\n",
              ".list-inline {list-style: none; margin:0; padding: 0}\n",
              ".list-inline>li {display: inline-block}\n",
              ".list-inline>li:not(:last-child)::after {content: \"\\00b7\"; padding: 0 .5ex}\n",
              "</style>\n",
              "<ol class=list-inline><li>37.1333333333333</li><li>17.5</li><li>192.333333333333</li><li>3333.33333333333</li></ol>\n"
            ]
          },
          "metadata": {}
        },
        {
          "output_type": "display_data",
          "data": {
            "text/plain": [
              "[1]     4.963333     0.190000     9.333333 15833.333333"
            ],
            "text/latex": "\\begin{enumerate*}\n\\item 4.96333333333334\n\\item 0.19\n\\item 9.33333333333333\n\\item 15833.3333333333\n\\end{enumerate*}\n",
            "text/markdown": "1. 4.96333333333334\n2. 0.19\n3. 9.33333333333333\n4. 15833.3333333333\n\n\n",
            "text/html": [
              "<style>\n",
              ".list-inline {list-style: none; margin:0; padding: 0}\n",
              ".list-inline>li {display: inline-block}\n",
              ".list-inline>li:not(:last-child)::after {content: \"\\00b7\"; padding: 0 .5ex}\n",
              "</style>\n",
              "<ol class=list-inline><li>4.96333333333334</li><li>0.19</li><li>9.33333333333333</li><li>15833.3333333333</li></ol>\n"
            ]
          },
          "metadata": {}
        },
        {
          "output_type": "display_data",
          "data": {
            "text/plain": [
              "[1]   51.85   19.65  195.50 3962.50"
            ],
            "text/latex": "\\begin{enumerate*}\n\\item 51.85\n\\item 19.65\n\\item 195.5\n\\item 3962.5\n\\end{enumerate*}\n",
            "text/markdown": "1. 51.85\n2. 19.65\n3. 195.5\n4. 3962.5\n\n\n",
            "text/html": [
              "<style>\n",
              ".list-inline {list-style: none; margin:0; padding: 0}\n",
              ".list-inline>li {display: inline-block}\n",
              ".list-inline>li:not(:last-child)::after {content: \"\\00b7\"; padding: 0 .5ex}\n",
              "</style>\n",
              "<ol class=list-inline><li>51.85</li><li>19.65</li><li>195.5</li><li>3962.5</li></ol>\n"
            ]
          },
          "metadata": {}
        },
        {
          "output_type": "display_data",
          "data": {
            "text/plain": [
              "[1]     0.045     0.845     4.500 70312.500"
            ],
            "text/latex": "\\begin{enumerate*}\n\\item 0.0449999999999991\n\\item 0.845000000000001\n\\item 4.5\n\\item 70312.5\n\\end{enumerate*}\n",
            "text/markdown": "1. 0.0449999999999991\n2. 0.845000000000001\n3. 4.5\n4. 70312.5\n\n\n",
            "text/html": [
              "<style>\n",
              ".list-inline {list-style: none; margin:0; padding: 0}\n",
              ".list-inline>li {display: inline-block}\n",
              ".list-inline>li:not(:last-child)::after {content: \"\\00b7\"; padding: 0 .5ex}\n",
              "</style>\n",
              "<ol class=list-inline><li>0.0449999999999991</li><li>0.845000000000001</li><li>4.5</li><li>70312.5</li></ol>\n"
            ]
          },
          "metadata": {}
        },
        {
          "output_type": "display_data",
          "data": {
            "text/plain": [
              "[1]   45.350   17.725  189.000 3481.250"
            ],
            "text/latex": "\\begin{enumerate*}\n\\item 45.35\n\\item 17.725\n\\item 189\n\\item 3481.25\n\\end{enumerate*}\n",
            "text/markdown": "1. 45.35\n2. 17.725\n3. 189\n4. 3481.25\n\n\n",
            "text/html": [
              "<style>\n",
              ".list-inline {list-style: none; margin:0; padding: 0}\n",
              ".list-inline>li {display: inline-block}\n",
              ".list-inline>li:not(:last-child)::after {content: \"\\00b7\"; padding: 0 .5ex}\n",
              "</style>\n",
              "<ol class=list-inline><li>45.35</li><li>17.725</li><li>189</li><li>3481.25</li></ol>\n"
            ]
          },
          "metadata": {}
        },
        {
          "output_type": "display_data",
          "data": {
            "text/plain": [
              "[1] 3.976667e+00 4.558333e-01 3.400000e+01 1.890625e+04"
            ],
            "text/latex": "\\begin{enumerate*}\n\\item 3.97666666666667\n\\item 0.455833333333333\n\\item 34\n\\item 18906.25\n\\end{enumerate*}\n",
            "text/markdown": "1. 3.97666666666667\n2. 0.455833333333333\n3. 34\n4. 18906.25\n\n\n",
            "text/html": [
              "<style>\n",
              ".list-inline {list-style: none; margin:0; padding: 0}\n",
              ".list-inline>li {display: inline-block}\n",
              ".list-inline>li:not(:last-child)::after {content: \"\\00b7\"; padding: 0 .5ex}\n",
              "</style>\n",
              "<ol class=list-inline><li>3.97666666666667</li><li>0.455833333333333</li><li>34</li><li>18906.25</li></ol>\n"
            ]
          },
          "metadata": {}
        },
        {
          "output_type": "display_data",
          "data": {
            "text/plain": [
              "[1]   50.8   19.6  202.0 4050.0"
            ],
            "text/latex": "\\begin{enumerate*}\n\\item 50.8\n\\item 19.6\n\\item 202\n\\item 4050\n\\end{enumerate*}\n",
            "text/markdown": "1. 50.8\n2. 19.6\n3. 202\n4. 4050\n\n\n",
            "text/html": [
              "<style>\n",
              ".list-inline {list-style: none; margin:0; padding: 0}\n",
              ".list-inline>li {display: inline-block}\n",
              ".list-inline>li:not(:last-child)::after {content: \"\\00b7\"; padding: 0 .5ex}\n",
              "</style>\n",
              "<ol class=list-inline><li>50.8</li><li>19.6</li><li>202</li><li>4050</li></ol>\n"
            ]
          },
          "metadata": {}
        },
        {
          "output_type": "display_data",
          "data": {
            "text/plain": [
              "[1]      1.57      0.91     52.00 437500.00"
            ],
            "text/latex": "\\begin{enumerate*}\n\\item 1.57\n\\item 0.909999999999998\n\\item 52\n\\item 437500\n\\end{enumerate*}\n",
            "text/markdown": "1. 1.57\n2. 0.909999999999998\n3. 52\n4. 437500\n\n\n",
            "text/html": [
              "<style>\n",
              ".list-inline {list-style: none; margin:0; padding: 0}\n",
              ".list-inline>li {display: inline-block}\n",
              ".list-inline>li:not(:last-child)::after {content: \"\\00b7\"; padding: 0 .5ex}\n",
              "</style>\n",
              "<ol class=list-inline><li>1.57</li><li>0.909999999999998</li><li>52</li><li>437500</li></ol>\n"
            ]
          },
          "metadata": {}
        },
        {
          "output_type": "display_data",
          "data": {
            "text/plain": [
              "[1]   45.05   17.50  191.00 3600.00"
            ],
            "text/latex": "\\begin{enumerate*}\n\\item 45.05\n\\item 17.5\n\\item 191\n\\item 3600\n\\end{enumerate*}\n",
            "text/markdown": "1. 45.05\n2. 17.5\n3. 191\n4. 3600\n\n\n",
            "text/html": [
              "<style>\n",
              ".list-inline {list-style: none; margin:0; padding: 0}\n",
              ".list-inline>li {display: inline-block}\n",
              ".list-inline>li:not(:last-child)::after {content: \"\\00b7\"; padding: 0 .5ex}\n",
              "</style>\n",
              "<ol class=list-inline><li>45.05</li><li>17.5</li><li>191</li><li>3600</li></ol>\n"
            ]
          },
          "metadata": {}
        },
        {
          "output_type": "display_data",
          "data": {
            "text/plain": [
              "[1]     13.005      1.280     32.000 125000.000"
            ],
            "text/latex": "\\begin{enumerate*}\n\\item 13.005\n\\item 1.28\n\\item 32\n\\item 125000\n\\end{enumerate*}\n",
            "text/markdown": "1. 13.005\n2. 1.28\n3. 32\n4. 125000\n\n\n",
            "text/html": [
              "<style>\n",
              ".list-inline {list-style: none; margin:0; padding: 0}\n",
              ".list-inline>li {display: inline-block}\n",
              ".list-inline>li:not(:last-child)::after {content: \"\\00b7\"; padding: 0 .5ex}\n",
              "</style>\n",
              "<ol class=list-inline><li>13.005</li><li>1.28</li><li>32</li><li>125000</li></ol>\n"
            ]
          },
          "metadata": {}
        },
        {
          "output_type": "display_data",
          "data": {
            "text/plain": [
              "[1]   50.975   18.950  200.750 3937.500"
            ],
            "text/latex": "\\begin{enumerate*}\n\\item 50.975\n\\item 18.95\n\\item 200.75\n\\item 3937.5\n\\end{enumerate*}\n",
            "text/markdown": "1. 50.975\n2. 18.95\n3. 200.75\n4. 3937.5\n\n\n",
            "text/html": [
              "<style>\n",
              ".list-inline {list-style: none; margin:0; padding: 0}\n",
              ".list-inline>li {display: inline-block}\n",
              ".list-inline>li:not(:last-child)::after {content: \"\\00b7\"; padding: 0 .5ex}\n",
              "</style>\n",
              "<ol class=list-inline><li>50.975</li><li>18.95</li><li>200.75</li><li>3937.5</li></ol>\n"
            ]
          },
          "metadata": {}
        },
        {
          "output_type": "display_data",
          "data": {
            "text/plain": [
              "[1] 7.358333e-01 2.700000e-01 6.916667e+00 1.772917e+05"
            ],
            "text/latex": "\\begin{enumerate*}\n\\item 0.735833333333334\n\\item 0.27\n\\item 6.91666666666667\n\\item 177291.666666667\n\\end{enumerate*}\n",
            "text/markdown": "1. 0.735833333333334\n2. 0.27\n3. 6.91666666666667\n4. 177291.666666667\n\n\n",
            "text/html": [
              "<style>\n",
              ".list-inline {list-style: none; margin:0; padding: 0}\n",
              ".list-inline>li {display: inline-block}\n",
              ".list-inline>li:not(:last-child)::after {content: \"\\00b7\"; padding: 0 .5ex}\n",
              "</style>\n",
              "<ol class=list-inline><li>0.735833333333334</li><li>0.27</li><li>6.91666666666667</li><li>177291.666666667</li></ol>\n"
            ]
          },
          "metadata": {}
        },
        {
          "output_type": "display_data",
          "data": {
            "text/plain": [
              "[1]   46.1   17.5  190.0 3450.0"
            ],
            "text/latex": "\\begin{enumerate*}\n\\item 46.1\n\\item 17.5\n\\item 190\n\\item 3450\n\\end{enumerate*}\n",
            "text/markdown": "1. 46.1\n2. 17.5\n3. 190\n4. 3450\n\n\n",
            "text/html": [
              "<style>\n",
              ".list-inline {list-style: none; margin:0; padding: 0}\n",
              ".list-inline>li {display: inline-block}\n",
              ".list-inline>li:not(:last-child)::after {content: \"\\00b7\"; padding: 0 .5ex}\n",
              "</style>\n",
              "<ol class=list-inline><li>46.1</li><li>17.5</li><li>190</li><li>3450</li></ol>\n"
            ]
          },
          "metadata": {}
        },
        {
          "output_type": "display_data",
          "data": {
            "text/plain": [
              "[1]    14.56     0.12     9.00 17500.00"
            ],
            "text/latex": "\\begin{enumerate*}\n\\item 14.56\n\\item 0.119999999999999\n\\item 9\n\\item 17500\n\\end{enumerate*}\n",
            "text/markdown": "1. 14.56\n2. 0.119999999999999\n3. 9\n4. 17500\n\n\n",
            "text/html": [
              "<style>\n",
              ".list-inline {list-style: none; margin:0; padding: 0}\n",
              ".list-inline>li {display: inline-block}\n",
              ".list-inline>li:not(:last-child)::after {content: \"\\00b7\"; padding: 0 .5ex}\n",
              "</style>\n",
              "<ol class=list-inline><li>14.56</li><li>0.119999999999999</li><li>9</li><li>17500</li></ol>\n"
            ]
          },
          "metadata": {}
        },
        {
          "output_type": "display_data",
          "data": {
            "text/plain": [
              "[1]   47.425   15.550  217.250 5325.000"
            ],
            "text/latex": "\\begin{enumerate*}\n\\item 47.425\n\\item 15.55\n\\item 217.25\n\\item 5325\n\\end{enumerate*}\n",
            "text/markdown": "1. 47.425\n2. 15.55\n3. 217.25\n4. 5325\n\n\n",
            "text/html": [
              "<style>\n",
              ".list-inline {list-style: none; margin:0; padding: 0}\n",
              ".list-inline>li {display: inline-block}\n",
              ".list-inline>li:not(:last-child)::after {content: \"\\00b7\"; padding: 0 .5ex}\n",
              "</style>\n",
              "<ol class=list-inline><li>47.425</li><li>15.55</li><li>217.25</li><li>5325</li></ol>\n"
            ]
          },
          "metadata": {}
        },
        {
          "output_type": "display_data",
          "data": {
            "text/plain": [
              "[1] 1.729167e+00 5.666667e-02 1.091667e+01 1.291667e+05"
            ],
            "text/latex": "\\begin{enumerate*}\n\\item 1.72916666666667\n\\item 0.0566666666666666\n\\item 10.9166666666667\n\\item 129166.666666667\n\\end{enumerate*}\n",
            "text/markdown": "1. 1.72916666666667\n2. 0.0566666666666666\n3. 10.9166666666667\n4. 129166.666666667\n\n\n",
            "text/html": [
              "<style>\n",
              ".list-inline {list-style: none; margin:0; padding: 0}\n",
              ".list-inline>li {display: inline-block}\n",
              ".list-inline>li:not(:last-child)::after {content: \"\\00b7\"; padding: 0 .5ex}\n",
              "</style>\n",
              "<ol class=list-inline><li>1.72916666666667</li><li>0.0566666666666666</li><li>10.9166666666667</li><li>129166.666666667</li></ol>\n"
            ]
          },
          "metadata": {}
        },
        {
          "output_type": "display_data",
          "data": {
            "text/plain": [
              "[1]   43.66   13.88  211.80 4610.00"
            ],
            "text/latex": "\\begin{enumerate*}\n\\item 43.66\n\\item 13.88\n\\item 211.8\n\\item 4610\n\\end{enumerate*}\n",
            "text/markdown": "1. 43.66\n2. 13.88\n3. 211.8\n4. 4610\n\n\n",
            "text/html": [
              "<style>\n",
              ".list-inline {list-style: none; margin:0; padding: 0}\n",
              ".list-inline>li {display: inline-block}\n",
              ".list-inline>li:not(:last-child)::after {content: \"\\00b7\"; padding: 0 .5ex}\n",
              "</style>\n",
              "<ol class=list-inline><li>43.66</li><li>13.88</li><li>211.8</li><li>4610</li></ol>\n"
            ]
          },
          "metadata": {}
        },
        {
          "output_type": "display_data",
          "data": {
            "text/plain": [
              "[1] 3.983e+00 4.770e-01 6.700e+00 1.005e+05"
            ],
            "text/latex": "\\begin{enumerate*}\n\\item 3.983\n\\item 0.477\n\\item 6.7\n\\item 100500\n\\end{enumerate*}\n",
            "text/markdown": "1. 3.983\n2. 0.477\n3. 6.7\n4. 100500\n\n\n",
            "text/html": [
              "<style>\n",
              ".list-inline {list-style: none; margin:0; padding: 0}\n",
              ".list-inline>li {display: inline-block}\n",
              ".list-inline>li:not(:last-child)::after {content: \"\\00b7\"; padding: 0 .5ex}\n",
              "</style>\n",
              "<ol class=list-inline><li>3.983</li><li>0.477</li><li>6.7</li><li>100500</li></ol>\n"
            ]
          },
          "metadata": {}
        },
        {
          "output_type": "display_data",
          "data": {
            "text/plain": [
              "[1]   49.64   15.66  222.80 5220.00"
            ],
            "text/latex": "\\begin{enumerate*}\n\\item 49.64\n\\item 15.66\n\\item 222.8\n\\item 5220\n\\end{enumerate*}\n",
            "text/markdown": "1. 49.64\n2. 15.66\n3. 222.8\n4. 5220\n\n\n",
            "text/html": [
              "<style>\n",
              ".list-inline {list-style: none; margin:0; padding: 0}\n",
              ".list-inline>li {display: inline-block}\n",
              ".list-inline>li:not(:last-child)::after {content: \"\\00b7\"; padding: 0 .5ex}\n",
              "</style>\n",
              "<ol class=list-inline><li>49.64</li><li>15.66</li><li>222.8</li><li>5220</li></ol>\n"
            ]
          },
          "metadata": {}
        },
        {
          "output_type": "display_data",
          "data": {
            "text/plain": [
              "[1]      0.763      0.558     26.700 155750.000"
            ],
            "text/latex": "\\begin{enumerate*}\n\\item 0.762999999999998\n\\item 0.558\n\\item 26.7\n\\item 155750\n\\end{enumerate*}\n",
            "text/markdown": "1. 0.762999999999998\n2. 0.558\n3. 26.7\n4. 155750\n\n\n",
            "text/html": [
              "<style>\n",
              ".list-inline {list-style: none; margin:0; padding: 0}\n",
              ".list-inline>li {display: inline-block}\n",
              ".list-inline>li:not(:last-child)::after {content: \"\\00b7\"; padding: 0 .5ex}\n",
              "</style>\n",
              "<ol class=list-inline><li>0.762999999999998</li><li>0.558</li><li>26.7</li><li>155750</li></ol>\n"
            ]
          },
          "metadata": {}
        },
        {
          "output_type": "display_data",
          "data": {
            "text/plain": [
              "[1]   45.47778   14.16667  214.77778 4616.66667"
            ],
            "text/latex": "\\begin{enumerate*}\n\\item 45.4777777777778\n\\item 14.1666666666667\n\\item 214.777777777778\n\\item 4616.66666666667\n\\end{enumerate*}\n",
            "text/markdown": "1. 45.4777777777778\n2. 14.1666666666667\n3. 214.777777777778\n4. 4616.66666666667\n\n\n",
            "text/html": [
              "<style>\n",
              ".list-inline {list-style: none; margin:0; padding: 0}\n",
              ".list-inline>li {display: inline-block}\n",
              ".list-inline>li:not(:last-child)::after {content: \"\\00b7\"; padding: 0 .5ex}\n",
              "</style>\n",
              "<ol class=list-inline><li>45.4777777777778</li><li>14.1666666666667</li><li>214.777777777778</li><li>4616.66666666667</li></ol>\n"
            ]
          },
          "metadata": {}
        },
        {
          "output_type": "display_data",
          "data": {
            "text/plain": [
              "[1] 3.646944e+00 1.925000e-01 2.469444e+01 1.818750e+05"
            ],
            "text/latex": "\\begin{enumerate*}\n\\item 3.64694444444444\n\\item 0.1925\n\\item 24.6944444444444\n\\item 181875\n\\end{enumerate*}\n",
            "text/markdown": "1. 3.64694444444444\n2. 0.1925\n3. 24.6944444444444\n4. 181875\n\n\n",
            "text/html": [
              "<style>\n",
              ".list-inline {list-style: none; margin:0; padding: 0}\n",
              ".list-inline>li {display: inline-block}\n",
              ".list-inline>li:not(:last-child)::after {content: \"\\00b7\"; padding: 0 .5ex}\n",
              "</style>\n",
              "<ol class=list-inline><li>3.64694444444444</li><li>0.1925</li><li>24.6944444444444</li><li>181875</li></ol>\n"
            ]
          },
          "metadata": {}
        },
        {
          "output_type": "display_data",
          "data": {
            "text/plain": [
              "[1]   51.0500   16.1375  224.1250 5490.6250"
            ],
            "text/latex": "\\begin{enumerate*}\n\\item 51.05\n\\item 16.1375\n\\item 224.125\n\\item 5490.625\n\\end{enumerate*}\n",
            "text/markdown": "1. 51.05\n2. 16.1375\n3. 224.125\n4. 5490.625\n\n\n",
            "text/html": [
              "<style>\n",
              ".list-inline {list-style: none; margin:0; padding: 0}\n",
              ".list-inline>li {display: inline-block}\n",
              ".list-inline>li:not(:last-child)::after {content: \"\\00b7\"; padding: 0 .5ex}\n",
              "</style>\n",
              "<ol class=list-inline><li>51.05</li><li>16.1375</li><li>224.125</li><li>5490.625</li></ol>\n"
            ]
          },
          "metadata": {}
        },
        {
          "output_type": "display_data",
          "data": {
            "text/plain": [
              "[1] 9.248571e+00 1.798214e-01 3.241071e+01 1.199888e+05"
            ],
            "text/latex": "\\begin{enumerate*}\n\\item 9.24857142857143\n\\item 0.179821428571429\n\\item 32.4107142857143\n\\item 119988.839285714\n\\end{enumerate*}\n",
            "text/markdown": "1. 9.24857142857143\n2. 0.179821428571429\n3. 32.4107142857143\n4. 119988.839285714\n\n\n",
            "text/html": [
              "<style>\n",
              ".list-inline {list-style: none; margin:0; padding: 0}\n",
              ".list-inline>li {display: inline-block}\n",
              ".list-inline>li:not(:last-child)::after {content: \"\\00b7\"; padding: 0 .5ex}\n",
              "</style>\n",
              "<ol class=list-inline><li>9.24857142857143</li><li>0.179821428571429</li><li>32.4107142857143</li><li>119988.839285714</li></ol>\n"
            ]
          },
          "metadata": {}
        },
        {
          "output_type": "display_data",
          "data": {
            "text/plain": [
              "[1]   46.40   14.55  212.25 4725.00"
            ],
            "text/latex": "\\begin{enumerate*}\n\\item 46.4\n\\item 14.55\n\\item 212.25\n\\item 4725\n\\end{enumerate*}\n",
            "text/markdown": "1. 46.4\n2. 14.55\n3. 212.25\n4. 4725\n\n\n",
            "text/html": [
              "<style>\n",
              ".list-inline {list-style: none; margin:0; padding: 0}\n",
              ".list-inline>li {display: inline-block}\n",
              ".list-inline>li:not(:last-child)::after {content: \"\\00b7\"; padding: 0 .5ex}\n",
              "</style>\n",
              "<ol class=list-inline><li>46.4</li><li>14.55</li><li>212.25</li><li>4725</li></ol>\n"
            ]
          },
          "metadata": {}
        },
        {
          "output_type": "display_data",
          "data": {
            "text/plain": [
              "[1] 5.906667e+00 2.433333e-01 2.500000e-01 1.291667e+04"
            ],
            "text/latex": "\\begin{enumerate*}\n\\item 5.90666666666667\n\\item 0.243333333333333\n\\item 0.25\n\\item 12916.6666666667\n\\end{enumerate*}\n",
            "text/markdown": "1. 5.90666666666667\n2. 0.243333333333333\n3. 0.25\n4. 12916.6666666667\n\n\n",
            "text/html": [
              "<style>\n",
              ".list-inline {list-style: none; margin:0; padding: 0}\n",
              ".list-inline>li {display: inline-block}\n",
              ".list-inline>li:not(:last-child)::after {content: \"\\00b7\"; padding: 0 .5ex}\n",
              "</style>\n",
              "<ol class=list-inline><li>5.90666666666667</li><li>0.243333333333333</li><li>0.25</li><li>12916.6666666667</li></ol>\n"
            ]
          },
          "metadata": {}
        }
      ]
    },
    {
      "cell_type": "code",
      "metadata": {
        "colab": {
          "base_uri": "https://localhost:8080/",
          "height": 118
        },
        "id": "fHJSIGM7kfZV",
        "outputId": "fb2c76f3-c18d-427d-9df3-2bf702ef93b6"
      },
      "source": [
        "# Splitting the penguin data per species\n",
        "overall_species = split(my.penguins, my.penguins$species)\n",
        "\n",
        "# Calculating overall means and variances of bill_length_mm,\tbill_depth_mm,\tflipper_length_mm and body_mass_g for penguins per gender\n",
        "overall_adelie_means = c()\n",
        "overall_adelie_variances = c()\n",
        "overall_chinstrap_means = c()\n",
        "overall_chinstrap_variances = c()\n",
        "overall_gentoo_means = c()\n",
        "overall_gentoo_variances = c()\n",
        "\n",
        "for (i in 3:6){\n",
        "  overall_adelie_means = c(overall_adelie_means, mean(unlist(overall_species$Adelie[i])))\n",
        "  overall_adelie_variances = c(overall_adelie_variances, var(unlist(overall_species$Adelie[i])))\n",
        "  \n",
        "  overall_chinstrap_means = c(overall_chinstrap_means, mean(unlist(overall_species$Chinstrap[i])))\n",
        "  overall_chinstrap_variances = c(overall_chinstrap_variances, var(unlist(overall_species$Chinstrap[i])))\n",
        "\n",
        "  overall_gentoo_means = c(overall_gentoo_means, mean(unlist(overall_species$Gentoo[i])))\n",
        "  overall_gentoo_variances = c(overall_gentoo_variances, var(unlist(overall_species$Gentoo[i])))\n",
        "}\n",
        "\n",
        "overall_adelie_means\n",
        "overall_adelie_variances\n",
        "\n",
        "overall_chinstrap_means\n",
        "overall_chinstrap_variances\n",
        "\n",
        "overall_gentoo_means\n",
        "overall_gentoo_variances"
      ],
      "execution_count": null,
      "outputs": [
        {
          "output_type": "display_data",
          "data": {
            "text/plain": [
              "[1]   39.16809   18.56809  190.85106 3811.70213"
            ],
            "text/latex": "\\begin{enumerate*}\n\\item 39.168085106383\n\\item 18.568085106383\n\\item 190.851063829787\n\\item 3811.70212765957\n\\end{enumerate*}\n",
            "text/markdown": "1. 39.168085106383\n2. 18.568085106383\n3. 190.851063829787\n4. 3811.70212765957\n\n\n",
            "text/html": [
              "<style>\n",
              ".list-inline {list-style: none; margin:0; padding: 0}\n",
              ".list-inline>li {display: inline-block}\n",
              ".list-inline>li:not(:last-child)::after {content: \"\\00b7\"; padding: 0 .5ex}\n",
              "</style>\n",
              "<ol class=list-inline><li>39.168085106383</li><li>18.568085106383</li><li>190.851063829787</li><li>3811.70212765957</li></ol>\n"
            ]
          },
          "metadata": {}
        },
        {
          "output_type": "display_data",
          "data": {
            "text/plain": [
              "[1] 9.502220e+00 1.258307e+00 3.443386e+01 2.389905e+05"
            ],
            "text/latex": "\\begin{enumerate*}\n\\item 9.50222016651249\n\\item 1.25830712303423\n\\item 34.4338575393154\n\\item 238990.518038853\n\\end{enumerate*}\n",
            "text/markdown": "1. 9.50222016651249\n2. 1.25830712303423\n3. 34.4338575393154\n4. 238990.518038853\n\n\n",
            "text/html": [
              "<style>\n",
              ".list-inline {list-style: none; margin:0; padding: 0}\n",
              ".list-inline>li {display: inline-block}\n",
              ".list-inline>li:not(:last-child)::after {content: \"\\00b7\"; padding: 0 .5ex}\n",
              "</style>\n",
              "<ol class=list-inline><li>9.50222016651249</li><li>1.25830712303423</li><li>34.4338575393154</li><li>238990.518038853</li></ol>\n"
            ]
          },
          "metadata": {}
        },
        {
          "output_type": "display_data",
          "data": {
            "text/plain": [
              "[1]   48.32222   18.46111  194.88889 3738.88889"
            ],
            "text/latex": "\\begin{enumerate*}\n\\item 48.3222222222222\n\\item 18.4611111111111\n\\item 194.888888888889\n\\item 3738.88888888889\n\\end{enumerate*}\n",
            "text/markdown": "1. 48.3222222222222\n2. 18.4611111111111\n3. 194.888888888889\n4. 3738.88888888889\n\n\n",
            "text/html": [
              "<style>\n",
              ".list-inline {list-style: none; margin:0; padding: 0}\n",
              ".list-inline>li {display: inline-block}\n",
              ".list-inline>li:not(:last-child)::after {content: \"\\00b7\"; padding: 0 .5ex}\n",
              "</style>\n",
              "<ol class=list-inline><li>48.3222222222222</li><li>18.4611111111111</li><li>194.888888888889</li><li>3738.88888888889</li></ol>\n"
            ]
          },
          "metadata": {}
        },
        {
          "output_type": "display_data",
          "data": {
            "text/plain": [
              "[1] 1.191007e+01 1.224869e+00 4.775163e+01 1.645016e+05"
            ],
            "text/latex": "\\begin{enumerate*}\n\\item 11.9100653594771\n\\item 1.22486928104575\n\\item 47.7516339869281\n\\item 164501.633986928\n\\end{enumerate*}\n",
            "text/markdown": "1. 11.9100653594771\n2. 1.22486928104575\n3. 47.7516339869281\n4. 164501.633986928\n\n\n",
            "text/html": [
              "<style>\n",
              ".list-inline {list-style: none; margin:0; padding: 0}\n",
              ".list-inline>li {display: inline-block}\n",
              ".list-inline>li:not(:last-child)::after {content: \"\\00b7\"; padding: 0 .5ex}\n",
              "</style>\n",
              "<ol class=list-inline><li>11.9100653594771</li><li>1.22486928104575</li><li>47.7516339869281</li><li>164501.633986928</li></ol>\n"
            ]
          },
          "metadata": {}
        },
        {
          "output_type": "display_data",
          "data": {
            "text/plain": [
              "[1]   47.41429   14.99143  217.62857 4995.00000"
            ],
            "text/latex": "\\begin{enumerate*}\n\\item 47.4142857142857\n\\item 14.9914285714286\n\\item 217.628571428571\n\\item 4995\n\\end{enumerate*}\n",
            "text/markdown": "1. 47.4142857142857\n2. 14.9914285714286\n3. 217.628571428571\n4. 4995\n\n\n",
            "text/html": [
              "<style>\n",
              ".list-inline {list-style: none; margin:0; padding: 0}\n",
              ".list-inline>li {display: inline-block}\n",
              ".list-inline>li:not(:last-child)::after {content: \"\\00b7\"; padding: 0 .5ex}\n",
              "</style>\n",
              "<ol class=list-inline><li>47.4142857142857</li><li>14.9914285714286</li><li>217.628571428571</li><li>4995</li></ol>\n"
            ]
          },
          "metadata": {}
        },
        {
          "output_type": "display_data",
          "data": {
            "text/plain": [
              "[1] 1.101950e+01 1.026689e+00 4.182857e+01 2.565000e+05"
            ],
            "text/latex": "\\begin{enumerate*}\n\\item 11.0194957983193\n\\item 1.02668907563025\n\\item 41.8285714285714\n\\item 256500\n\\end{enumerate*}\n",
            "text/markdown": "1. 11.0194957983193\n2. 1.02668907563025\n3. 41.8285714285714\n4. 256500\n\n\n",
            "text/html": [
              "<style>\n",
              ".list-inline {list-style: none; margin:0; padding: 0}\n",
              ".list-inline>li {display: inline-block}\n",
              ".list-inline>li:not(:last-child)::after {content: \"\\00b7\"; padding: 0 .5ex}\n",
              "</style>\n",
              "<ol class=list-inline><li>11.0194957983193</li><li>1.02668907563025</li><li>41.8285714285714</li><li>256500</li></ol>\n"
            ]
          },
          "metadata": {}
        }
      ]
    },
    {
      "cell_type": "code",
      "metadata": {
        "colab": {
          "base_uri": "https://localhost:8080/",
          "height": 356
        },
        "id": "4BhBo-AIkgFZ",
        "outputId": "d2bbcf79-d522-45f3-9264-53f0572693dd"
      },
      "source": [
        "# Splitting the penguin species data per year\n",
        "overall_adelie_yearly = split(overall_species$Adelie, overall_species$Adelie$year)\n",
        "overall_chinstrap_yearly = split(overall_species$Chinstrap, overall_species$Chinstrap$year)\n",
        "overall_gentoo_yearly = split(overall_species$Gentoo, overall_species$Gentoo$year)\n",
        "\n",
        "# Calculating overall means and variances of bill_length_mm,\tbill_depth_mm,\tflipper_length_mm and body_mass_g for penguins per gender\n",
        "overall_adelie_2007_means = c()\n",
        "overall_adelie_2007_variances = c()\n",
        "overall_adelie_2008_means = c()\n",
        "overall_adelie_2008_variances = c()\n",
        "overall_adelie_2009_means = c()\n",
        "overall_adelie_2009_variances = c()\n",
        "\n",
        "overall_chinstrap_2007_means = c()\n",
        "overall_chinstrap_2007_variances = c()\n",
        "overall_chinstrap_2008_means = c()\n",
        "overall_chinstrap_2008_variances = c()\n",
        "overall_chinstrap_2009_means = c()\n",
        "overall_chinstrap_2009_variances = c()\n",
        "\n",
        "overall_gentoo_2007_means = c()\n",
        "overall_gentoo_2007_variances = c()\n",
        "overall_gentoo_2008_means = c()\n",
        "overall_gentoo_2008_variances = c()\n",
        "overall_gentoo_2009_means = c()\n",
        "overall_gentoo_2009_variances = c()\n",
        "\n",
        "for (i in 3:6){\n",
        "  overall_adelie_2007_means = c(overall_adelie_2007_means, mean(unlist(overall_adelie_yearly$\"2007\"[i])))\n",
        "  overall_adelie_2007_variances = c(overall_adelie_2007_variances, var(unlist(overall_adelie_yearly$\"2007\"[i])))\n",
        "  overall_adelie_2008_means = c(overall_adelie_2008_means, mean(unlist(overall_adelie_yearly$\"2008\"[i])))\n",
        "  overall_adelie_2008_variances = c(overall_adelie_2008_variances, var(unlist(overall_adelie_yearly$\"2008\"[i])))\n",
        "  overall_adelie_2009_means = c(overall_adelie_2009_means, mean(unlist(overall_adelie_yearly$\"2009\"[i])))\n",
        "  overall_adelie_2009_variances = c(overall_adelie_2009_variances, var(unlist(overall_adelie_yearly$\"2009\"[i])))\n",
        "\n",
        "  overall_chinstrap_2007_means = c(overall_chinstrap_2007_means, mean(unlist(overall_chinstrap_yearly$\"2007\"[i])))\n",
        "  overall_chinstrap_2007_variances = c(overall_chinstrap_2007_variances, var(unlist(overall_chinstrap_yearly$\"2007\"[i])))\n",
        "  overall_chinstrap_2008_means = c(overall_chinstrap_2008_means, mean(unlist(overall_chinstrap_yearly$\"2008\"[i])))\n",
        "  overall_chinstrap_2008_variances = c(overall_chinstrap_2008_variances, var(unlist(overall_chinstrap_yearly$\"2008\"[i])))\n",
        "  overall_chinstrap_2009_means = c(overall_chinstrap_2009_means, mean(unlist(overall_chinstrap_yearly$\"2009\"[i])))\n",
        "  overall_chinstrap_2009_variances = c(overall_chinstrap_2009_variances, var(unlist(overall_chinstrap_yearly$\"2009\"[i])))\n",
        "\n",
        "  overall_gentoo_2007_means = c(overall_gentoo_2007_means, mean(unlist(overall_gentoo_yearly$\"2007\"[i])))\n",
        "  overall_gentoo_2007_variances = c(overall_gentoo_2007_variances, var(unlist(overall_gentoo_yearly$\"2007\"[i])))\n",
        "  overall_gentoo_2008_means = c(overall_gentoo_2008_means, mean(unlist(overall_gentoo_yearly$\"2008\"[i])))\n",
        "  overall_gentoo_2008_variances = c(overall_gentoo_2008_variances, var(unlist(overall_gentoo_yearly$\"2008\"[i])))\n",
        "  overall_gentoo_2009_means = c(overall_gentoo_2009_means, mean(unlist(overall_gentoo_yearly$\"2009\"[i])))\n",
        "  overall_gentoo_2009_variances = c(overall_gentoo_2009_variances, var(unlist(overall_gentoo_yearly$\"2009\"[i])))\n",
        "}\n",
        "\n",
        "cat(\"overall means and variances of  penguins per gender\\n bill_length_mm, bill_depth_mm, flipper_length_mm body_mass_g\")\n",
        "overall_adelie_2007_means\n",
        "overall_adelie_2007_variances\n",
        "overall_adelie_2008_means\n",
        "overall_adelie_2008_variances\n",
        "overall_adelie_2009_means\n",
        "overall_adelie_2009_variances\n",
        "\n",
        "overall_chinstrap_2007_means\n",
        "overall_chinstrap_2007_variances\n",
        "overall_chinstrap_2008_means\n",
        "overall_chinstrap_2008_variances\n",
        "overall_chinstrap_2009_means\n",
        "overall_chinstrap_2009_variances\n",
        "\n",
        "overall_gentoo_2007_means\n",
        "overall_gentoo_2007_variances\n",
        "overall_gentoo_2008_means\n",
        "overall_gentoo_2008_variances\n",
        "overall_gentoo_2009_means\n",
        "overall_gentoo_2009_variances"
      ],
      "execution_count": null,
      "outputs": [
        {
          "output_type": "stream",
          "name": "stdout",
          "text": [
            "overall means and variances of  penguins per gender\n",
            " bill_length_mm, bill_depth_mm, flipper_length_mm body_mass_g"
          ]
        },
        {
          "output_type": "display_data",
          "data": {
            "text/plain": [
              "[1]   39.23077   19.37692  187.92308 3915.38462"
            ],
            "text/latex": "\\begin{enumerate*}\n\\item 39.2307692307692\n\\item 19.3769230769231\n\\item 187.923076923077\n\\item 3915.38461538462\n\\end{enumerate*}\n",
            "text/markdown": "1. 39.2307692307692\n2. 19.3769230769231\n3. 187.923076923077\n4. 3915.38461538462\n\n\n",
            "text/html": [
              "<style>\n",
              ".list-inline {list-style: none; margin:0; padding: 0}\n",
              ".list-inline>li {display: inline-block}\n",
              ".list-inline>li:not(:last-child)::after {content: \"\\00b7\"; padding: 0 .5ex}\n",
              "</style>\n",
              "<ol class=list-inline><li>39.2307692307692</li><li>19.3769230769231</li><li>187.923076923077</li><li>3915.38461538462</li></ol>\n"
            ]
          },
          "metadata": {}
        },
        {
          "output_type": "display_data",
          "data": {
            "text/plain": [
              "[1] 1.032231e+01 1.321923e+00 5.441026e+01 2.080769e+05"
            ],
            "text/latex": "\\begin{enumerate*}\n\\item 10.3223076923077\n\\item 1.32192307692308\n\\item 54.4102564102564\n\\item 208076.923076923\n\\end{enumerate*}\n",
            "text/markdown": "1. 10.3223076923077\n2. 1.32192307692308\n3. 54.4102564102564\n4. 208076.923076923\n\n\n",
            "text/html": [
              "<style>\n",
              ".list-inline {list-style: none; margin:0; padding: 0}\n",
              ".list-inline>li {display: inline-block}\n",
              ".list-inline>li:not(:last-child)::after {content: \"\\00b7\"; padding: 0 .5ex}\n",
              "</style>\n",
              "<ol class=list-inline><li>10.3223076923077</li><li>1.32192307692308</li><li>54.4102564102564</li><li>208076.923076923</li></ol>\n"
            ]
          },
          "metadata": {}
        },
        {
          "output_type": "display_data",
          "data": {
            "text/plain": [
              "[1]   38.64091   18.15000  190.50000 3706.81818"
            ],
            "text/latex": "\\begin{enumerate*}\n\\item 38.6409090909091\n\\item 18.15\n\\item 190.5\n\\item 3706.81818181818\n\\end{enumerate*}\n",
            "text/markdown": "1. 38.6409090909091\n2. 18.15\n3. 190.5\n4. 3706.81818181818\n\n\n",
            "text/html": [
              "<style>\n",
              ".list-inline {list-style: none; margin:0; padding: 0}\n",
              ".list-inline>li {display: inline-block}\n",
              ".list-inline>li:not(:last-child)::after {content: \"\\00b7\"; padding: 0 .5ex}\n",
              "</style>\n",
              "<ol class=list-inline><li>38.6409090909091</li><li>18.15</li><li>190.5</li><li>3706.81818181818</li></ol>\n"
            ]
          },
          "metadata": {}
        },
        {
          "output_type": "display_data",
          "data": {
            "text/plain": [
              "[1] 9.673961e+00 8.778571e-01 2.121429e+01 2.264989e+05"
            ],
            "text/latex": "\\begin{enumerate*}\n\\item 9.67396103896104\n\\item 0.877857142857142\n\\item 21.2142857142857\n\\item 226498.917748918\n\\end{enumerate*}\n",
            "text/markdown": "1. 9.67396103896104\n2. 0.877857142857142\n3. 21.2142857142857\n4. 226498.917748918\n\n\n",
            "text/html": [
              "<style>\n",
              ".list-inline {list-style: none; margin:0; padding: 0}\n",
              ".list-inline>li {display: inline-block}\n",
              ".list-inline>li:not(:last-child)::after {content: \"\\00b7\"; padding: 0 .5ex}\n",
              "</style>\n",
              "<ol class=list-inline><li>9.67396103896104</li><li>0.877857142857142</li><li>21.2142857142857</li><li>226498.917748918</li></ol>\n"
            ]
          },
          "metadata": {}
        },
        {
          "output_type": "display_data",
          "data": {
            "text/plain": [
              "[1]   40.06667   18.45833  194.66667 3891.66667"
            ],
            "text/latex": "\\begin{enumerate*}\n\\item 40.0666666666667\n\\item 18.4583333333333\n\\item 194.666666666667\n\\item 3891.66666666667\n\\end{enumerate*}\n",
            "text/markdown": "1. 40.0666666666667\n2. 18.4583333333333\n3. 194.666666666667\n4. 3891.66666666667\n\n\n",
            "text/html": [
              "<style>\n",
              ".list-inline {list-style: none; margin:0; padding: 0}\n",
              ".list-inline>li {display: inline-block}\n",
              ".list-inline>li:not(:last-child)::after {content: \"\\00b7\"; padding: 0 .5ex}\n",
              "</style>\n",
              "<ol class=list-inline><li>40.0666666666667</li><li>18.4583333333333</li><li>194.666666666667</li><li>3891.66666666667</li></ol>\n"
            ]
          },
          "metadata": {}
        },
        {
          "output_type": "display_data",
          "data": {
            "text/plain": [
              "[1] 8.566061e+00 1.008106e+00 1.787879e+01 2.983333e+05"
            ],
            "text/latex": "\\begin{enumerate*}\n\\item 8.56606060606061\n\\item 1.00810606060606\n\\item 17.8787878787879\n\\item 298333.333333333\n\\end{enumerate*}\n",
            "text/markdown": "1. 8.56606060606061\n2. 1.00810606060606\n3. 17.8787878787879\n4. 298333.333333333\n\n\n",
            "text/html": [
              "<style>\n",
              ".list-inline {list-style: none; margin:0; padding: 0}\n",
              ".list-inline>li {display: inline-block}\n",
              ".list-inline>li:not(:last-child)::after {content: \"\\00b7\"; padding: 0 .5ex}\n",
              "</style>\n",
              "<ol class=list-inline><li>8.56606060606061</li><li>1.00810606060606</li><li>17.8787878787879</li><li>298333.333333333</li></ol>\n"
            ]
          },
          "metadata": {}
        },
        {
          "output_type": "display_data",
          "data": {
            "text/plain": [
              "[1]   47.51667   18.36667  191.16667 3641.66667"
            ],
            "text/latex": "\\begin{enumerate*}\n\\item 47.5166666666667\n\\item 18.3666666666667\n\\item 191.166666666667\n\\item 3641.66666666667\n\\end{enumerate*}\n",
            "text/markdown": "1. 47.5166666666667\n2. 18.3666666666667\n3. 191.166666666667\n4. 3641.66666666667\n\n\n",
            "text/html": [
              "<style>\n",
              ".list-inline {list-style: none; margin:0; padding: 0}\n",
              ".list-inline>li {display: inline-block}\n",
              ".list-inline>li:not(:last-child)::after {content: \"\\00b7\"; padding: 0 .5ex}\n",
              "</style>\n",
              "<ol class=list-inline><li>47.5166666666667</li><li>18.3666666666667</li><li>191.166666666667</li><li>3641.66666666667</li></ol>\n"
            ]
          },
          "metadata": {}
        },
        {
          "output_type": "display_data",
          "data": {
            "text/plain": [
              "[1]    13.661667     1.430667    32.566667 87166.666667"
            ],
            "text/latex": "\\begin{enumerate*}\n\\item 13.6616666666667\n\\item 1.43066666666667\n\\item 32.5666666666667\n\\item 87166.6666666667\n\\end{enumerate*}\n",
            "text/markdown": "1. 13.6616666666667\n2. 1.43066666666667\n3. 32.5666666666667\n4. 87166.6666666667\n\n\n",
            "text/html": [
              "<style>\n",
              ".list-inline {list-style: none; margin:0; padding: 0}\n",
              ".list-inline>li {display: inline-block}\n",
              ".list-inline>li:not(:last-child)::after {content: \"\\00b7\"; padding: 0 .5ex}\n",
              "</style>\n",
              "<ol class=list-inline><li>13.6616666666667</li><li>1.43066666666667</li><li>32.5666666666667</li><li>87166.6666666667</li></ol>\n"
            ]
          },
          "metadata": {}
        },
        {
          "output_type": "display_data",
          "data": {
            "text/plain": [
              "[1]   48.50   18.76  197.60 3870.00"
            ],
            "text/latex": "\\begin{enumerate*}\n\\item 48.5\n\\item 18.76\n\\item 197.6\n\\item 3870\n\\end{enumerate*}\n",
            "text/markdown": "1. 48.5\n2. 18.76\n3. 197.6\n4. 3870\n\n\n",
            "text/html": [
              "<style>\n",
              ".list-inline {list-style: none; margin:0; padding: 0}\n",
              ".list-inline>li {display: inline-block}\n",
              ".list-inline>li:not(:last-child)::after {content: \"\\00b7\"; padding: 0 .5ex}\n",
              "</style>\n",
              "<ol class=list-inline><li>48.5</li><li>18.76</li><li>197.6</li><li>3870</li></ol>\n"
            ]
          },
          "metadata": {}
        },
        {
          "output_type": "display_data",
          "data": {
            "text/plain": [
              "[1]     13.955      2.098     70.300 310750.000"
            ],
            "text/latex": "\\begin{enumerate*}\n\\item 13.955\n\\item 2.098\n\\item 70.3\n\\item 310750\n\\end{enumerate*}\n",
            "text/markdown": "1. 13.955\n2. 2.098\n3. 70.3\n4. 310750\n\n\n",
            "text/html": [
              "<style>\n",
              ".list-inline {list-style: none; margin:0; padding: 0}\n",
              ".list-inline>li {display: inline-block}\n",
              ".list-inline>li:not(:last-child)::after {content: \"\\00b7\"; padding: 0 .5ex}\n",
              "</style>\n",
              "<ol class=list-inline><li>13.955</li><li>2.098</li><li>70.3</li><li>310750</li></ol>\n"
            ]
          },
          "metadata": {}
        },
        {
          "output_type": "display_data",
          "data": {
            "text/plain": [
              "[1]   48.88571   18.32857  196.14286 3728.57143"
            ],
            "text/latex": "\\begin{enumerate*}\n\\item 48.8857142857143\n\\item 18.3285714285714\n\\item 196.142857142857\n\\item 3728.57142857143\n\\end{enumerate*}\n",
            "text/markdown": "1. 48.8857142857143\n2. 18.3285714285714\n3. 196.142857142857\n4. 3728.57142857143\n\n\n",
            "text/html": [
              "<style>\n",
              ".list-inline {list-style: none; margin:0; padding: 0}\n",
              ".list-inline>li {display: inline-block}\n",
              ".list-inline>li:not(:last-child)::after {content: \"\\00b7\"; padding: 0 .5ex}\n",
              "</style>\n",
              "<ol class=list-inline><li>48.8857142857143</li><li>18.3285714285714</li><li>196.142857142857</li><li>3728.57142857143</li></ol>\n"
            ]
          },
          "metadata": {}
        },
        {
          "output_type": "display_data",
          "data": {
            "text/plain": [
              "[1] 1.201143e+01 7.757143e-01 3.947619e+01 1.623810e+05"
            ],
            "text/latex": "\\begin{enumerate*}\n\\item 12.0114285714286\n\\item 0.775714285714285\n\\item 39.4761904761905\n\\item 162380.952380952\n\\end{enumerate*}\n",
            "text/markdown": "1. 12.0114285714286\n2. 0.775714285714285\n3. 39.4761904761905\n4. 162380.952380952\n\n\n",
            "text/html": [
              "<style>\n",
              ".list-inline {list-style: none; margin:0; padding: 0}\n",
              ".list-inline>li {display: inline-block}\n",
              ".list-inline>li:not(:last-child)::after {content: \"\\00b7\"; padding: 0 .5ex}\n",
              "</style>\n",
              "<ol class=list-inline><li>12.0114285714286</li><li>0.775714285714285</li><li>39.4761904761905</li><li>162380.952380952</li></ol>\n"
            ]
          },
          "metadata": {}
        },
        {
          "output_type": "display_data",
          "data": {
            "text/plain": [
              "[1]   45.33333   14.62222  214.22222 4927.77778"
            ],
            "text/latex": "\\begin{enumerate*}\n\\item 45.3333333333333\n\\item 14.6222222222222\n\\item 214.222222222222\n\\item 4927.77777777778\n\\end{enumerate*}\n",
            "text/markdown": "1. 45.3333333333333\n2. 14.6222222222222\n3. 214.222222222222\n4. 4927.77777777778\n\n\n",
            "text/html": [
              "<style>\n",
              ".list-inline {list-style: none; margin:0; padding: 0}\n",
              ".list-inline>li {display: inline-block}\n",
              ".list-inline>li:not(:last-child)::after {content: \"\\00b7\"; padding: 0 .5ex}\n",
              "</style>\n",
              "<ol class=list-inline><li>45.3333333333333</li><li>14.6222222222222</li><li>214.222222222222</li><li>4927.77777777778</li></ol>\n"
            ]
          },
          "metadata": {}
        },
        {
          "output_type": "display_data",
          "data": {
            "text/plain": [
              "[1] 6.577500e+00 1.034444e+00 1.569444e+01 2.406944e+05"
            ],
            "text/latex": "\\begin{enumerate*}\n\\item 6.5775\n\\item 1.03444444444444\n\\item 15.6944444444444\n\\item 240694.444444444\n\\end{enumerate*}\n",
            "text/markdown": "1. 6.5775\n2. 1.03444444444444\n3. 15.6944444444444\n4. 240694.444444444\n\n\n",
            "text/html": [
              "<style>\n",
              ".list-inline {list-style: none; margin:0; padding: 0}\n",
              ".list-inline>li {display: inline-block}\n",
              ".list-inline>li:not(:last-child)::after {content: \"\\00b7\"; padding: 0 .5ex}\n",
              "</style>\n",
              "<ol class=list-inline><li>6.5775</li><li>1.03444444444444</li><li>15.6944444444444</li><li>240694.444444444</li></ol>\n"
            ]
          },
          "metadata": {}
        },
        {
          "output_type": "display_data",
          "data": {
            "text/plain": [
              "[1]   46.96429   14.70000  217.64286 4832.14286"
            ],
            "text/latex": "\\begin{enumerate*}\n\\item 46.9642857142857\n\\item 14.7\n\\item 217.642857142857\n\\item 4832.14285714286\n\\end{enumerate*}\n",
            "text/markdown": "1. 46.9642857142857\n2. 14.7\n3. 217.642857142857\n4. 4832.14285714286\n\n\n",
            "text/html": [
              "<style>\n",
              ".list-inline {list-style: none; margin:0; padding: 0}\n",
              ".list-inline>li {display: inline-block}\n",
              ".list-inline>li:not(:last-child)::after {content: \"\\00b7\"; padding: 0 .5ex}\n",
              "</style>\n",
              "<ol class=list-inline><li>46.9642857142857</li><li>14.7</li><li>217.642857142857</li><li>4832.14285714286</li></ol>\n"
            ]
          },
          "metadata": {}
        },
        {
          "output_type": "display_data",
          "data": {
            "text/plain": [
              "[1] 6.762473e+00 8.415385e-01 3.932418e+01 2.498489e+05"
            ],
            "text/latex": "\\begin{enumerate*}\n\\item 6.76247252747253\n\\item 0.841538461538462\n\\item 39.3241758241758\n\\item 249848.901098901\n\\end{enumerate*}\n",
            "text/markdown": "1. 6.76247252747253\n2. 0.841538461538462\n3. 39.3241758241758\n4. 249848.901098901\n\n\n",
            "text/html": [
              "<style>\n",
              ".list-inline {list-style: none; margin:0; padding: 0}\n",
              ".list-inline>li {display: inline-block}\n",
              ".list-inline>li:not(:last-child)::after {content: \"\\00b7\"; padding: 0 .5ex}\n",
              "</style>\n",
              "<ol class=list-inline><li>6.76247252747253</li><li>0.841538461538462</li><li>39.3241758241758</li><li>249848.901098901</li></ol>\n"
            ]
          },
          "metadata": {}
        },
        {
          "output_type": "display_data",
          "data": {
            "text/plain": [
              "[1]   49.50000   15.60833  220.16667 5235.41667"
            ],
            "text/latex": "\\begin{enumerate*}\n\\item 49.5\n\\item 15.6083333333333\n\\item 220.166666666667\n\\item 5235.41666666667\n\\end{enumerate*}\n",
            "text/markdown": "1. 49.5\n2. 15.6083333333333\n3. 220.166666666667\n4. 5235.41666666667\n\n\n",
            "text/html": [
              "<style>\n",
              ".list-inline {list-style: none; margin:0; padding: 0}\n",
              ".list-inline>li {display: inline-block}\n",
              ".list-inline>li:not(:last-child)::after {content: \"\\00b7\"; padding: 0 .5ex}\n",
              "</style>\n",
              "<ol class=list-inline><li>49.5</li><li>15.6083333333333</li><li>220.166666666667</li><li>5235.41666666667</li></ol>\n"
            ]
          },
          "metadata": {}
        },
        {
          "output_type": "display_data",
          "data": {
            "text/plain": [
              "[1] 1.273818e+01 7.917424e-01 5.487879e+01 2.219839e+05"
            ],
            "text/latex": "\\begin{enumerate*}\n\\item 12.7381818181818\n\\item 0.791742424242425\n\\item 54.8787878787879\n\\item 221983.901515152\n\\end{enumerate*}\n",
            "text/markdown": "1. 12.7381818181818\n2. 0.791742424242425\n3. 54.8787878787879\n4. 221983.901515152\n\n\n",
            "text/html": [
              "<style>\n",
              ".list-inline {list-style: none; margin:0; padding: 0}\n",
              ".list-inline>li {display: inline-block}\n",
              ".list-inline>li:not(:last-child)::after {content: \"\\00b7\"; padding: 0 .5ex}\n",
              "</style>\n",
              "<ol class=list-inline><li>12.7381818181818</li><li>0.791742424242425</li><li>54.8787878787879</li><li>221983.901515152</li></ol>\n"
            ]
          },
          "metadata": {}
        }
      ]
    },
    {
      "cell_type": "code",
      "metadata": {
        "id": "aOc42zAHBo6e"
      },
      "source": [
        "features = c(\"bill_length_mm\",\t\"bill_depth_mm\",\t\"flipper_length_mm\",\t\"body_mass_g\")\n",
        "mean_frame = data.frame(features, overall_male_means, overall_male_variances, overall_female_means, overall_female_variances, overall_male_adelie_means, overall_male_adelie_variances,\n",
        "                        overall_female_adelie_means, overall_female_adelie_variances, overall_male_chinstrap_means, overall_male_chinstrap_variances, overall_female_chinstrap_means,\n",
        "                        overall_female_chinstrap_variances, overall_male_gentoo_means, overall_male_gentoo_variances, overall_female_gentoo_means, overall_female_gentoo_variances,\n",
        "                        overall_male_2007_means, overall_male_2007_variances, overall_female_2007_means, overall_female_2007_variances, overall_male_2008_means, overall_male_2008_variances,\n",
        "                        overall_female_2008_means, overall_female_2008_variances, overall_male_2009_means, overall_male_2009_variances, overall_female_2009_means, overall_female_2009_variances,\n",
        "                        overall_male_adelie_2007_means, overall_male_adelie_2007_variances, overall_female_adelie_2007_means, overall_female_adelie_2007_variances, overall_male_adelie_2008_means,\n",
        "                        overall_male_adelie_2008_variances, overall_female_adelie_2008_means, overall_female_adelie_2008_variances, overall_male_adelie_2009_means, overall_male_adelie_2009_variances,\n",
        "                        overall_female_adelie_2009_means, overall_female_adelie_2009_variances, overall_male_chinstrap_2007_means, overall_male_chinstrap_2007_variances, overall_female_chinstrap_2007_means,\n",
        "                        overall_female_chinstrap_2007_variances, overall_male_chinstrap_2008_means, overall_male_chinstrap_2008_variances, overall_female_chinstrap_2008_means, overall_female_chinstrap_2008_variances,\n",
        "                        overall_male_chinstrap_2009_means, overall_male_chinstrap_2009_variances, overall_female_chinstrap_2009_means, overall_female_chinstrap_2009_variances, overall_male_gentoo_2007_means, overall_male_gentoo_2007_variances,\n",
        "                        overall_female_gentoo_2007_means, overall_female_gentoo_2007_variances, overall_male_gentoo_2008_means, overall_male_gentoo_2008_variances, overall_female_gentoo_2008_means, overall_female_gentoo_2008_variances, overall_male_gentoo_2009_means,\n",
        "                        overall_male_gentoo_2009_variances, overall_female_gentoo_2009_means, overall_female_gentoo_2009_variances, overall_adelie_means, overall_adelie_variances, overall_chinstrap_means, overall_chinstrap_variances, overall_gentoo_means, overall_gentoo_variances,\n",
        "                        overall_adelie_2007_means, overall_adelie_2007_variances, overall_adelie_2008_means, overall_adelie_2008_variances, overall_adelie_2009_means, overall_adelie_2009_variances, overall_chinstrap_2007_means, overall_chinstrap_2007_variances, overall_chinstrap_2008_means,\n",
        "                        overall_chinstrap_2008_variances, overall_chinstrap_2009_means, overall_chinstrap_2009_variances, overall_gentoo_2007_means, overall_gentoo_2007_variances, overall_gentoo_2008_means, overall_gentoo_2008_variances, overall_gentoo_2009_means, overall_gentoo_2009_variances)"
      ],
      "execution_count": null,
      "outputs": []
    },
    {
      "cell_type": "code",
      "metadata": {
        "colab": {
          "base_uri": "https://localhost:8080/",
          "height": 240
        },
        "id": "4SxhlXbXY9w-",
        "outputId": "5283624d-8fbb-46ee-aab8-f39c9b80a296"
      },
      "source": [
        "mean_frame"
      ],
      "execution_count": null,
      "outputs": [
        {
          "output_type": "display_data",
          "data": {
            "text/plain": [
              "  features          overall_male_means overall_male_variances\n",
              "1 bill_length_mm      45.32037         2.938694e+01          \n",
              "2 bill_depth_mm       18.09259         3.032397e+00          \n",
              "3 flipper_length_mm  203.12963         2.023791e+02          \n",
              "4 body_mass_g       4487.96296         4.980835e+05          \n",
              "  overall_female_means overall_female_variances overall_male_adelie_means\n",
              "1   41.80217           2.182200e+01               40.75000               \n",
              "2   16.36304           3.665937e+00               19.05357               \n",
              "3  198.39130           1.716657e+02              192.60714               \n",
              "4 3889.67391           4.497660e+05             4114.28571               \n",
              "  overall_male_adelie_variances overall_female_adelie_means\n",
              "1 8.050741e+00                    36.83684                 \n",
              "2 1.003320e+00                    17.85263                 \n",
              "3 2.698810e+01                   188.26316                 \n",
              "4 1.221032e+05                  3365.78947                 \n",
              "  overall_female_adelie_variances overall_male_chinstrap_means ⋯\n",
              "1 2.578012e+00                      51.11111                   ⋯\n",
              "2 8.037427e-01                      19.32222                   ⋯\n",
              "3 3.564912e+01                     200.00000                   ⋯\n",
              "4 7.529240e+04                    3980.55556                   ⋯\n",
              "  overall_chinstrap_2008_means overall_chinstrap_2008_variances\n",
              "1   48.50                          13.955                      \n",
              "2   18.76                           2.098                      \n",
              "3  197.60                          70.300                      \n",
              "4 3870.00                      310750.000                      \n",
              "  overall_chinstrap_2009_means overall_chinstrap_2009_variances\n",
              "1   48.88571                   1.201143e+01                    \n",
              "2   18.32857                   7.757143e-01                    \n",
              "3  196.14286                   3.947619e+01                    \n",
              "4 3728.57143                   1.623810e+05                    \n",
              "  overall_gentoo_2007_means overall_gentoo_2007_variances\n",
              "1   45.33333                6.577500e+00                 \n",
              "2   14.62222                1.034444e+00                 \n",
              "3  214.22222                1.569444e+01                 \n",
              "4 4927.77778                2.406944e+05                 \n",
              "  overall_gentoo_2008_means overall_gentoo_2008_variances\n",
              "1   46.96429                6.762473e+00                 \n",
              "2   14.70000                8.415385e-01                 \n",
              "3  217.64286                3.932418e+01                 \n",
              "4 4832.14286                2.498489e+05                 \n",
              "  overall_gentoo_2009_means overall_gentoo_2009_variances\n",
              "1   49.50000                1.273818e+01                 \n",
              "2   15.60833                7.917424e-01                 \n",
              "3  220.16667                5.487879e+01                 \n",
              "4 5235.41667                2.219839e+05                 "
            ],
            "text/latex": "A data.frame: 4 × 89\n\\begin{tabular}{lllllllllllllllllllll}\n features & overall\\_male\\_means & overall\\_male\\_variances & overall\\_female\\_means & overall\\_female\\_variances & overall\\_male\\_adelie\\_means & overall\\_male\\_adelie\\_variances & overall\\_female\\_adelie\\_means & overall\\_female\\_adelie\\_variances & overall\\_male\\_chinstrap\\_means & ⋯ & overall\\_chinstrap\\_2008\\_means & overall\\_chinstrap\\_2008\\_variances & overall\\_chinstrap\\_2009\\_means & overall\\_chinstrap\\_2009\\_variances & overall\\_gentoo\\_2007\\_means & overall\\_gentoo\\_2007\\_variances & overall\\_gentoo\\_2008\\_means & overall\\_gentoo\\_2008\\_variances & overall\\_gentoo\\_2009\\_means & overall\\_gentoo\\_2009\\_variances\\\\\n <chr> & <dbl> & <dbl> & <dbl> & <dbl> & <dbl> & <dbl> & <dbl> & <dbl> & <dbl> & ⋯ & <dbl> & <dbl> & <dbl> & <dbl> & <dbl> & <dbl> & <dbl> & <dbl> & <dbl> & <dbl>\\\\\n\\hline\n\t bill\\_length\\_mm    &   45.32037 & 2.938694e+01 &   41.80217 & 2.182200e+01 &   40.75000 & 8.050741e+00 &   36.83684 & 2.578012e+00 &   51.11111 & ⋯ &   48.50 &     13.955 &   48.88571 & 1.201143e+01 &   45.33333 & 6.577500e+00 &   46.96429 & 6.762473e+00 &   49.50000 & 1.273818e+01\\\\\n\t bill\\_depth\\_mm     &   18.09259 & 3.032397e+00 &   16.36304 & 3.665937e+00 &   19.05357 & 1.003320e+00 &   17.85263 & 8.037427e-01 &   19.32222 & ⋯ &   18.76 &      2.098 &   18.32857 & 7.757143e-01 &   14.62222 & 1.034444e+00 &   14.70000 & 8.415385e-01 &   15.60833 & 7.917424e-01\\\\\n\t flipper\\_length\\_mm &  203.12963 & 2.023791e+02 &  198.39130 & 1.716657e+02 &  192.60714 & 2.698810e+01 &  188.26316 & 3.564912e+01 &  200.00000 & ⋯ &  197.60 &     70.300 &  196.14286 & 3.947619e+01 &  214.22222 & 1.569444e+01 &  217.64286 & 3.932418e+01 &  220.16667 & 5.487879e+01\\\\\n\t body\\_mass\\_g       & 4487.96296 & 4.980835e+05 & 3889.67391 & 4.497660e+05 & 4114.28571 & 1.221032e+05 & 3365.78947 & 7.529240e+04 & 3980.55556 & ⋯ & 3870.00 & 310750.000 & 3728.57143 & 1.623810e+05 & 4927.77778 & 2.406944e+05 & 4832.14286 & 2.498489e+05 & 5235.41667 & 2.219839e+05\\\\\n\\end{tabular}\n",
            "text/markdown": "\nA data.frame: 4 × 89\n\n| features &lt;chr&gt; | overall_male_means &lt;dbl&gt; | overall_male_variances &lt;dbl&gt; | overall_female_means &lt;dbl&gt; | overall_female_variances &lt;dbl&gt; | overall_male_adelie_means &lt;dbl&gt; | overall_male_adelie_variances &lt;dbl&gt; | overall_female_adelie_means &lt;dbl&gt; | overall_female_adelie_variances &lt;dbl&gt; | overall_male_chinstrap_means &lt;dbl&gt; | ⋯ ⋯ | overall_chinstrap_2008_means &lt;dbl&gt; | overall_chinstrap_2008_variances &lt;dbl&gt; | overall_chinstrap_2009_means &lt;dbl&gt; | overall_chinstrap_2009_variances &lt;dbl&gt; | overall_gentoo_2007_means &lt;dbl&gt; | overall_gentoo_2007_variances &lt;dbl&gt; | overall_gentoo_2008_means &lt;dbl&gt; | overall_gentoo_2008_variances &lt;dbl&gt; | overall_gentoo_2009_means &lt;dbl&gt; | overall_gentoo_2009_variances &lt;dbl&gt; |\n|---|---|---|---|---|---|---|---|---|---|---|---|---|---|---|---|---|---|---|---|---|\n| bill_length_mm    |   45.32037 | 2.938694e+01 |   41.80217 | 2.182200e+01 |   40.75000 | 8.050741e+00 |   36.83684 | 2.578012e+00 |   51.11111 | ⋯ |   48.50 |     13.955 |   48.88571 | 1.201143e+01 |   45.33333 | 6.577500e+00 |   46.96429 | 6.762473e+00 |   49.50000 | 1.273818e+01 |\n| bill_depth_mm     |   18.09259 | 3.032397e+00 |   16.36304 | 3.665937e+00 |   19.05357 | 1.003320e+00 |   17.85263 | 8.037427e-01 |   19.32222 | ⋯ |   18.76 |      2.098 |   18.32857 | 7.757143e-01 |   14.62222 | 1.034444e+00 |   14.70000 | 8.415385e-01 |   15.60833 | 7.917424e-01 |\n| flipper_length_mm |  203.12963 | 2.023791e+02 |  198.39130 | 1.716657e+02 |  192.60714 | 2.698810e+01 |  188.26316 | 3.564912e+01 |  200.00000 | ⋯ |  197.60 |     70.300 |  196.14286 | 3.947619e+01 |  214.22222 | 1.569444e+01 |  217.64286 | 3.932418e+01 |  220.16667 | 5.487879e+01 |\n| body_mass_g       | 4487.96296 | 4.980835e+05 | 3889.67391 | 4.497660e+05 | 4114.28571 | 1.221032e+05 | 3365.78947 | 7.529240e+04 | 3980.55556 | ⋯ | 3870.00 | 310750.000 | 3728.57143 | 1.623810e+05 | 4927.77778 | 2.406944e+05 | 4832.14286 | 2.498489e+05 | 5235.41667 | 2.219839e+05 |\n\n",
            "text/html": [
              "<table class=\"dataframe\">\n",
              "<caption>A data.frame: 4 × 89</caption>\n",
              "<thead>\n",
              "\t<tr><th scope=col>features</th><th scope=col>overall_male_means</th><th scope=col>overall_male_variances</th><th scope=col>overall_female_means</th><th scope=col>overall_female_variances</th><th scope=col>overall_male_adelie_means</th><th scope=col>overall_male_adelie_variances</th><th scope=col>overall_female_adelie_means</th><th scope=col>overall_female_adelie_variances</th><th scope=col>overall_male_chinstrap_means</th><th scope=col>⋯</th><th scope=col>overall_chinstrap_2008_means</th><th scope=col>overall_chinstrap_2008_variances</th><th scope=col>overall_chinstrap_2009_means</th><th scope=col>overall_chinstrap_2009_variances</th><th scope=col>overall_gentoo_2007_means</th><th scope=col>overall_gentoo_2007_variances</th><th scope=col>overall_gentoo_2008_means</th><th scope=col>overall_gentoo_2008_variances</th><th scope=col>overall_gentoo_2009_means</th><th scope=col>overall_gentoo_2009_variances</th></tr>\n",
              "\t<tr><th scope=col>&lt;chr&gt;</th><th scope=col>&lt;dbl&gt;</th><th scope=col>&lt;dbl&gt;</th><th scope=col>&lt;dbl&gt;</th><th scope=col>&lt;dbl&gt;</th><th scope=col>&lt;dbl&gt;</th><th scope=col>&lt;dbl&gt;</th><th scope=col>&lt;dbl&gt;</th><th scope=col>&lt;dbl&gt;</th><th scope=col>&lt;dbl&gt;</th><th scope=col>⋯</th><th scope=col>&lt;dbl&gt;</th><th scope=col>&lt;dbl&gt;</th><th scope=col>&lt;dbl&gt;</th><th scope=col>&lt;dbl&gt;</th><th scope=col>&lt;dbl&gt;</th><th scope=col>&lt;dbl&gt;</th><th scope=col>&lt;dbl&gt;</th><th scope=col>&lt;dbl&gt;</th><th scope=col>&lt;dbl&gt;</th><th scope=col>&lt;dbl&gt;</th></tr>\n",
              "</thead>\n",
              "<tbody>\n",
              "\t<tr><td>bill_length_mm   </td><td>  45.32037</td><td>2.938694e+01</td><td>  41.80217</td><td>2.182200e+01</td><td>  40.75000</td><td>8.050741e+00</td><td>  36.83684</td><td>2.578012e+00</td><td>  51.11111</td><td>⋯</td><td>  48.50</td><td>    13.955</td><td>  48.88571</td><td>1.201143e+01</td><td>  45.33333</td><td>6.577500e+00</td><td>  46.96429</td><td>6.762473e+00</td><td>  49.50000</td><td>1.273818e+01</td></tr>\n",
              "\t<tr><td>bill_depth_mm    </td><td>  18.09259</td><td>3.032397e+00</td><td>  16.36304</td><td>3.665937e+00</td><td>  19.05357</td><td>1.003320e+00</td><td>  17.85263</td><td>8.037427e-01</td><td>  19.32222</td><td>⋯</td><td>  18.76</td><td>     2.098</td><td>  18.32857</td><td>7.757143e-01</td><td>  14.62222</td><td>1.034444e+00</td><td>  14.70000</td><td>8.415385e-01</td><td>  15.60833</td><td>7.917424e-01</td></tr>\n",
              "\t<tr><td>flipper_length_mm</td><td> 203.12963</td><td>2.023791e+02</td><td> 198.39130</td><td>1.716657e+02</td><td> 192.60714</td><td>2.698810e+01</td><td> 188.26316</td><td>3.564912e+01</td><td> 200.00000</td><td>⋯</td><td> 197.60</td><td>    70.300</td><td> 196.14286</td><td>3.947619e+01</td><td> 214.22222</td><td>1.569444e+01</td><td> 217.64286</td><td>3.932418e+01</td><td> 220.16667</td><td>5.487879e+01</td></tr>\n",
              "\t<tr><td>body_mass_g      </td><td>4487.96296</td><td>4.980835e+05</td><td>3889.67391</td><td>4.497660e+05</td><td>4114.28571</td><td>1.221032e+05</td><td>3365.78947</td><td>7.529240e+04</td><td>3980.55556</td><td>⋯</td><td>3870.00</td><td>310750.000</td><td>3728.57143</td><td>1.623810e+05</td><td>4927.77778</td><td>2.406944e+05</td><td>4832.14286</td><td>2.498489e+05</td><td>5235.41667</td><td>2.219839e+05</td></tr>\n",
              "</tbody>\n",
              "</table>\n"
            ]
          },
          "metadata": {}
        }
      ]
    },
    {
      "cell_type": "code",
      "metadata": {
        "id": "TxO5sZ4yUKWv"
      },
      "source": [
        "mean_frame_mf = data.frame(overall_male_means, overall_female_means)"
      ],
      "execution_count": null,
      "outputs": []
    },
    {
      "cell_type": "code",
      "metadata": {
        "colab": {
          "base_uri": "https://localhost:8080/",
          "height": 437
        },
        "id": "FG65tUx9Bpar",
        "outputId": "f7990583-c394-4a9d-fa1f-19c2c238f2e4"
      },
      "source": [
        "barplot(overall_male_means[1:2], names.arg = features[1:2], main=\"Male penguin means for Bill Length and Bill Depth\", ylim = c(0, 50))"
      ],
      "execution_count": null,
      "outputs": [
        {
          "output_type": "display_data",
          "data": {
            "image/png": "[encoded data removed]",
            "text/plain": [
              "Plot with title “Male penguin means for Bill Length and Bill Depth”"
            ]
          },
          "metadata": {
            "image/png": {
              "width": 420,
              "height": 420
            }
          }
        }
      ]
    },
    {
      "cell_type": "code",
      "metadata": {
        "colab": {
          "base_uri": "https://localhost:8080/",
          "height": 437
        },
        "id": "vMjYi2GaSg5l",
        "outputId": "dbf997bf-a05b-49a7-fc0f-60f1260f51a8"
      },
      "source": [
        "barplot(overall_female_means[1:2], names.arg = features[1:2], ylim = c(0, 50), main=\"Female penguin means for Bill Length and Bill Depth\")\n"
      ],
      "execution_count": null,
      "outputs": [
        {
          "output_type": "display_data",
          "data": {
            "image/png": "[encoded data removed]",
            "text/plain": [
              "Plot with title “Female penguin means for Bill Length and Bill Depth”"
            ]
          },
          "metadata": {
            "image/png": {
              "width": 420,
              "height": 420
            }
          }
        }
      ]
    },
    {
      "cell_type": "code",
      "metadata": {
        "colab": {
          "base_uri": "https://localhost:8080/",
          "height": 437
        },
        "id": "4g7VxEWgNSHD",
        "outputId": "59133571-bb01-4508-9c53-ba6e6f657743"
      },
      "source": [
        "par(mfrow = c(1, 2))\n",
        "barplot(overall_male_means[3], names.arg = features[3], ylim = c(0, 250))\n",
        "barplot(overall_male_means[4], names.arg = features[4], ylim = c(0, 5000))\n",
        "mtext(\"Male penguin means for Flipper Length and Mass\", side = 3, line = -2, outer = TRUE, cex = 1.5)\n",
        "par(mfrow = c(1, 1))"
      ],
      "execution_count": null,
      "outputs": [
        {
          "output_type": "display_data",
          "data": {
            "image/png": "[encoded data removed]",
            "text/plain": [
              "plot without title"
            ]
          },
          "metadata": {
            "image/png": {
              "width": 420,
              "height": 420
            }
          }
        }
      ]
    },
    {
      "cell_type": "code",
      "metadata": {
        "colab": {
          "base_uri": "https://localhost:8080/",
          "height": 437
        },
        "id": "YIIwxZl8Bpdy",
        "outputId": "ed59c2c2-8abd-410d-fdcb-80a72eb61ff3"
      },
      "source": [
        "par(mfrow = c(1, 2))\n",
        "barplot(overall_female_means[3], names.arg = features[3], ylim = c(0, 250))\n",
        "barplot(overall_female_means[4], names.arg = features[4], ylim = c(0, 5000))\n",
        "mtext(\"Female penguin means for Flipper Length and Mass\", side = 3, line = -2, outer = TRUE, cex = 1.5)\n",
        "par(mfrow = c(1, 1))"
      ],
      "execution_count": null,
      "outputs": [
        {
          "output_type": "display_data",
          "data": {
            "image/png": "[encoded data removed]",
            "text/plain": [
              "plot without title"
            ]
          },
          "metadata": {
            "image/png": {
              "width": 420,
              "height": 420
            }
          }
        }
      ]
    },
    {
      "cell_type": "code",
      "metadata": {
        "colab": {
          "base_uri": "https://localhost:8080/",
          "height": 437
        },
        "id": "KapJELcfBpii",
        "outputId": "116b56be-fd3a-4b07-f34e-63ef8dbe6d34"
      },
      "source": [
        "barplot(overall_adelie_means[1:2], names.arg = features[1:2], ylim = c(0, 50), main=\"Adelie penguin means for Bill Length and Bill Depth\")"
      ],
      "execution_count": null,
      "outputs": [
        {
          "output_type": "display_data",
          "data": {
            "image/png": "[encoded data removed]",
            "text/plain": [
              "Plot with title “Adelie penguin means for Bill Length and Bill Depth”"
            ]
          },
          "metadata": {
            "image/png": {
              "width": 420,
              "height": 420
            }
          }
        }
      ]
    },
    {
      "cell_type": "code",
      "metadata": {
        "colab": {
          "base_uri": "https://localhost:8080/",
          "height": 437
        },
        "id": "l0zQJvr0Bpnf",
        "outputId": "d491946a-2ac8-45e9-fae9-1ce35882494a"
      },
      "source": [
        "par(mfrow = c(1, 2))\n",
        "barplot(overall_adelie_means[3], names.arg = features[3], ylim = c(0, 250))\n",
        "barplot(overall_adelie_means[4], names.arg = features[4], ylim = c(0, 5000))\n",
        "mtext(\"Adelie penguin means for Flipper Length and Mass\", side = 3, line = -2, outer = TRUE, cex = 1.5)\n",
        "par(mfrow = c(1, 1))"
      ],
      "execution_count": null,
      "outputs": [
        {
          "output_type": "display_data",
          "data": {
            "image/png": "[encoded data removed]",
            "text/plain": [
              "plot without title"
            ]
          },
          "metadata": {
            "image/png": {
              "width": 420,
              "height": 420
            }
          }
        }
      ]
    },
    {
      "cell_type": "code",
      "metadata": {
        "colab": {
          "base_uri": "https://localhost:8080/",
          "height": 437
        },
        "id": "yoFifkAIdfpK",
        "outputId": "887cb80f-7d23-4da5-fb31-c3599b38af93"
      },
      "source": [
        "barplot(overall_chinstrap_means[1:2], names.arg = features[1:2], ylim = c(0, 50), main=\"Chinstrap penguin means for Bill Length and Bill Depth\")"
      ],
      "execution_count": null,
      "outputs": [
        {
          "output_type": "display_data",
          "data": {
            "image/png": "[encoded data removed]",
            "text/plain": [
              "Plot with title “Chinstrap penguin means for Bill Length and Bill Depth”"
            ]
          },
          "metadata": {
            "image/png": {
              "width": 420,
              "height": 420
            }
          }
        }
      ]
    },
    {
      "cell_type": "code",
      "metadata": {
        "colab": {
          "base_uri": "https://localhost:8080/",
          "height": 437
        },
        "id": "9yKW-zYoBpri",
        "outputId": "051ff8ad-d223-44bc-df21-626949d8a15a"
      },
      "source": [
        "par(mfrow = c(1, 2))\n",
        "barplot(overall_chinstrap_means[3], names.arg = features[3], ylim = c(0, 250))\n",
        "barplot(overall_chinstrap_means[4], names.arg = features[4], ylim = c(0, 5000))\n",
        "mtext(\"Chinstrap penguin means for Flipper Length and Mass\", side = 3, line = -2, outer = TRUE, cex = 1.5)\n",
        "par(mfrow = c(1, 1))"
      ],
      "execution_count": null,
      "outputs": [
        {
          "output_type": "display_data",
          "data": {
            "image/png": "[encoded data removed]",
            "text/plain": [
              "plot without title"
            ]
          },
          "metadata": {
            "image/png": {
              "width": 420,
              "height": 420
            }
          }
        }
      ]
    },
    {
      "cell_type": "code",
      "metadata": {
        "colab": {
          "base_uri": "https://localhost:8080/",
          "height": 437
        },
        "id": "fYf_cM99fpwo",
        "outputId": "4229e735-298d-439c-8614-4fdd2bf83b0e"
      },
      "source": [
        "barplot(overall_gentoo_means[1:2], names.arg = features[1:2], ylim = c(0, 50), main=\"Gentoo penguin means for Bill Length and Bill Depth\")"
      ],
      "execution_count": null,
      "outputs": [
        {
          "output_type": "display_data",
          "data": {
            "image/png": "[encoded data removed]",
            "text/plain": [
              "Plot with title “Gentoo penguin means for Bill Length and Bill Depth”"
            ]
          },
          "metadata": {
            "image/png": {
              "width": 420,
              "height": 420
            }
          }
        }
      ]
    },
    {
      "cell_type": "code",
      "metadata": {
        "colab": {
          "base_uri": "https://localhost:8080/",
          "height": 437
        },
        "id": "hdJEniREfpwz",
        "outputId": "6ccdc4ca-d6f5-4fcb-9acb-3a2674afadac"
      },
      "source": [
        "par(mfrow = c(1, 2))\n",
        "barplot(overall_gentoo_means[3], names.arg = features[3], ylim = c(0, 250))\n",
        "barplot(overall_gentoo_means[4], names.arg = features[4], ylim = c(0, 5000))\n",
        "mtext(\"Gentoo penguin means for Flipper Length and Mass\", side = 3, line = -2, outer = TRUE, cex = 1.5)\n",
        "par(mfrow = c(1, 1))"
      ],
      "execution_count": null,
      "outputs": [
        {
          "output_type": "display_data",
          "data": {
            "image/png": "[encoded data removed]",
            "text/plain": [
              "plot without title"
            ]
          },
          "metadata": {
            "image/png": {
              "width": 420,
              "height": 420
            }
          }
        }
      ]
    },
    {
      "cell_type": "code",
      "metadata": {
        "id": "gG9R2-GCBpz2",
        "colab": {
          "base_uri": "https://localhost:8080/",
          "height": 437
        },
        "outputId": "a6be319a-f20e-4db7-b000-14358ea921bd"
      },
      "source": [
        "# Plotting bill length vs bill depth \n",
        "grid.arrange(\n",
        "  ggplot(data = my.penguins) + aes(x = bill_length_mm, y = bill_depth_mm, color = sex) + geom_point(),\n",
        "  \n",
        "  ggplot(data = my.penguins) + aes(x = bill_depth_mm, y = flipper_length_mm, color = sex) + geom_point(),\n",
        "  \n",
        "  ggplot(data = my.penguins) + aes(x = flipper_length_mm, y = body_mass_g, color = sex) + geom_point(),\n",
        "  \n",
        "  ggplot(data = my.penguins) + aes(x = bill_depth_mm, y = body_mass_g, color = sex) + geom_point()\n",
        ")"
      ],
      "execution_count": null,
      "outputs": [
        {
          "output_type": "display_data",
          "data": {
            "image/png": "[encoded data removed]",
            "text/plain": [
              "plot without title"
            ]
          },
          "metadata": {
            "image/png": {
              "width": 420,
              "height": 420
            }
          }
        }
      ]
    },
    {
      "cell_type": "code",
      "metadata": {
        "id": "2jWmDe2NBp3Z",
        "colab": {
          "base_uri": "https://localhost:8080/",
          "height": 437
        },
        "outputId": "7edf79e4-b46a-4444-8486-2bce18ee9a82"
      },
      "source": [
        "ggplot(data = my.penguins) + aes(x = sex, y = body_mass_g, color = sex) + geom_point()"
      ],
      "execution_count": null,
      "outputs": [
        {
          "output_type": "display_data",
          "data": {
            "image/png": "[encoded data removed]",
            "text/plain": [
              "plot without title"
            ]
          },
          "metadata": {
            "image/png": {
              "width": 420,
              "height": 420
            }
          }
        }
      ]
    },
    {
      "cell_type": "markdown",
      "metadata": {
        "id": "eWjm6ih2ad5F"
      },
      "source": [
        "# P Value"
      ]
    },
    {
      "cell_type": "code",
      "metadata": {
        "id": "2LWBSWHPBp6v"
      },
      "source": [
        "# A function to calculate the p value for randomly picked male is heavier than female...\n",
        "find_p = function(data, n){\n",
        "  my.penguins_male = my.penguins[my.penguins$sex == 'male',]\n",
        "  my.penguins_female = my.penguins[my.penguins$sex == 'female',]\n",
        "  count = 0\n",
        "  for(i in seq(n)){\n",
        "    random_male = my.penguins_male[sample(nrow(my.penguins_male), 1), ]           # randomly pick a data point from male dataset\n",
        "    random_female = my.penguins_female[sample(nrow(my.penguins_female), 1), ]     # randomly pick a data point from female dataset\n",
        "    if(random_male$body_mass_g > random_female$body_mass_g){                      # compare body mass of male and female\n",
        "      count=count+1                                                               # count how many heavier males then females...\n",
        "    }\n",
        "  }\n",
        "  return(count/n)                                                                 # return the probability\n",
        "}"
      ],
      "execution_count": null,
      "outputs": []
    },
    {
      "cell_type": "code",
      "metadata": {
        "id": "QlH_eonnBqB_",
        "colab": {
          "base_uri": "https://localhost:8080/"
        },
        "outputId": "17084f99-5454-41dc-c749-745dc58bd1fb"
      },
      "source": [
        "prob = find_p(my.penguins, 1000)\n",
        "message(\"Probability that a randomly selected male from a sample will be heavier than a randomly selected female from the sample is \", prob) "
      ],
      "execution_count": null,
      "outputs": [
        {
          "output_type": "stream",
          "name": "stderr",
          "text": [
            "Probability that a randomly selected male from a sample will be heavier than a randomly selected female from the sample is 0.741\n",
            "\n"
          ]
        }
      ]
    },
    {
      "cell_type": "markdown",
      "metadata": {
        "id": "VwOvLP_IeRQZ"
      },
      "source": [
        "# Q1\tAre Gentoo penguins heavier than 5kg (=5000g) on average?"
      ]
    },
    {
      "cell_type": "code",
      "metadata": {
        "colab": {
          "base_uri": "https://localhost:8080/"
        },
        "id": "OPqCh-dQOlUS",
        "outputId": "34ad47e4-0b9e-4f34-f709-e2ec8940b4da"
      },
      "source": [
        "# Calculating test stastic...\n",
        "t = (mean(overall_species$Gentoo$body_mass_g) - 5000)/sqrt((sd(overall_species$Gentoo$body_mass_g))^2/nrow(overall_species$Gentoo))\n",
        "message(\"Value of t: \", t)"
      ],
      "execution_count": null,
      "outputs": [
        {
          "output_type": "stream",
          "name": "stderr",
          "text": [
            "Value of t: -0.0584063870042052\n",
            "\n"
          ]
        }
      ]
    },
    {
      "cell_type": "code",
      "metadata": {
        "id": "jUl989tGOlYo",
        "colab": {
          "base_uri": "https://localhost:8080/"
        },
        "outputId": "063cb90f-094f-4516-f9f3-41453b3e7c6f"
      },
      "source": [
        "# calculating p value...\n",
        "message(\"Value of p*: \", pt(-abs(t), nrow(overall_species$Gentoo)))"
      ],
      "execution_count": null,
      "outputs": [
        {
          "output_type": "stream",
          "name": "stderr",
          "text": [
            "Value of p*: 0.476878563148507\n",
            "\n"
          ]
        }
      ]
    },
    {
      "cell_type": "markdown",
      "metadata": {
        "id": "HrsV2q-we_u0"
      },
      "source": [
        "H0 -> Avg. weight of gentoo penguin is heavier than 5000g <br>\n",
        "H1 -> Avg. weight of gentoo penguin is less than 5000g <br>\n",
        "\n",
        "As the value of p* is less than 0.5, we can't accept the null hypothesis(H0) i.e., avg. weight of gentoo penguin is leser than 5000g"
      ]
    },
    {
      "cell_type": "code",
      "metadata": {
        "id": "mk_ZI8ymOldE",
        "colab": {
          "base_uri": "https://localhost:8080/",
          "height": 69
        },
        "outputId": "053023e8-5612-46cd-92d2-239defc3098b"
      },
      "source": [
        "# Mean value of features bill_length_mm,\tbill_depth_mm,\tflipper_length_mm and body_mass_g for Gentoo penguins\n",
        "cat(\"bill_length_mm,\tbill_depth_mm,\tflipper_length_mm and body_mass_g\")\n",
        "overall_gentoo_means\n",
        "\n",
        "cat(\"The average mass of Gentoo penguins is: \", overall_gentoo_means[4])"
      ],
      "execution_count": null,
      "outputs": [
        {
          "output_type": "stream",
          "name": "stdout",
          "text": [
            "bill_length_mm,\tbill_depth_mm,\tflipper_length_mm and body_mass_g"
          ]
        },
        {
          "output_type": "display_data",
          "data": {
            "text/plain": [
              "[1]   47.41429   14.99143  217.62857 4995.00000"
            ],
            "text/latex": "\\begin{enumerate*}\n\\item 47.4142857142857\n\\item 14.9914285714286\n\\item 217.628571428571\n\\item 4995\n\\end{enumerate*}\n",
            "text/markdown": "1. 47.4142857142857\n2. 14.9914285714286\n3. 217.628571428571\n4. 4995\n\n\n",
            "text/html": [
              "<style>\n",
              ".list-inline {list-style: none; margin:0; padding: 0}\n",
              ".list-inline>li {display: inline-block}\n",
              ".list-inline>li:not(:last-child)::after {content: \"\\00b7\"; padding: 0 .5ex}\n",
              "</style>\n",
              "<ol class=list-inline><li>47.4142857142857</li><li>14.9914285714286</li><li>217.628571428571</li><li>4995</li></ol>\n"
            ]
          },
          "metadata": {}
        },
        {
          "output_type": "stream",
          "name": "stdout",
          "text": [
            "The average mass of Gentoo penguins is:  4995"
          ]
        }
      ]
    },
    {
      "cell_type": "markdown",
      "metadata": {
        "id": "M75R6gPqgMho"
      },
      "source": [
        "The computed average supports our results from the above hypothesis testing"
      ]
    },
    {
      "cell_type": "markdown",
      "metadata": {
        "id": "tObRgotJ4Xpp"
      },
      "source": [
        "# Q2. Are male penguin’s flippers 200mm in length on average?"
      ]
    },
    {
      "cell_type": "code",
      "metadata": {
        "id": "_PpKfzCw4XuA",
        "colab": {
          "base_uri": "https://localhost:8080/"
        },
        "outputId": "3c93f7d7-b644-4fb6-a167-0fa038a0173a"
      },
      "source": [
        "# Calculating test stastic...\n",
        "t = (mean(overall_genderwise_split$male$flipper_length_mm) - 200)/sqrt((sd(overall_genderwise_split$male$flipper_length_mm))^2/nrow(overall_genderwise_split$male))\n",
        "message(\"Value of t: \", t)"
      ],
      "execution_count": null,
      "outputs": [
        {
          "output_type": "stream",
          "name": "stderr",
          "text": [
            "Value of t: 1.61661643133208\n",
            "\n"
          ]
        }
      ]
    },
    {
      "cell_type": "code",
      "metadata": {
        "id": "mkvaDjlT4Xxt",
        "colab": {
          "base_uri": "https://localhost:8080/"
        },
        "outputId": "0456ea5d-36d3-4901-ac78-6d0747fb0655"
      },
      "source": [
        "# Calculating p value...\n",
        "message(\"Value of p*: \", 2*pt(-abs(t),nrow(overall_genderwise_split$male)))"
      ],
      "execution_count": null,
      "outputs": [
        {
          "output_type": "stream",
          "name": "stderr",
          "text": [
            "Value of p*: 0.111788864614187\n",
            "\n"
          ]
        }
      ]
    },
    {
      "cell_type": "markdown",
      "metadata": {
        "id": "K5haw7EE4X0o"
      },
      "source": [
        "H0 -> Male Penguin's flippers are not equal 200mm in length on avg <br>\n",
        "H1 -> Male Penguin's flippers are are 200mm in length on avg. <br>\n",
        "\n",
        "As the value of p* is less than 0.5, we can't accept out null hypothesis(H0) i.e., male Penguin's flippers are 200mm in length on avg"
      ]
    },
    {
      "cell_type": "code",
      "metadata": {
        "id": "Bjvtfm5X2XlG",
        "colab": {
          "base_uri": "https://localhost:8080/",
          "height": 69
        },
        "outputId": "dec050c2-6fc1-4012-f608-3aa207168280"
      },
      "source": [
        "# Mean value of features bill_length_mm,\tbill_depth_mm,\tflipper_length_mm and body_mass_g for Males overall\n",
        "cat(\"bill_length_mm,\tbill_depth_mm,\tflipper_length_mm and body_mass_g\")\n",
        "overall_male_means\n",
        "\n",
        "cat(\"The flipper length of male penguins is: \", overall_male_means[3])"
      ],
      "execution_count": null,
      "outputs": [
        {
          "output_type": "stream",
          "name": "stdout",
          "text": [
            "bill_length_mm,\tbill_depth_mm,\tflipper_length_mm and body_mass_g"
          ]
        },
        {
          "output_type": "display_data",
          "data": {
            "text/plain": [
              "[1]   45.32037   18.09259  203.12963 4487.96296"
            ],
            "text/latex": "\\begin{enumerate*}\n\\item 45.3203703703704\n\\item 18.0925925925926\n\\item 203.12962962963\n\\item 4487.96296296296\n\\end{enumerate*}\n",
            "text/markdown": "1. 45.3203703703704\n2. 18.0925925925926\n3. 203.12962962963\n4. 4487.96296296296\n\n\n",
            "text/html": [
              "<style>\n",
              ".list-inline {list-style: none; margin:0; padding: 0}\n",
              ".list-inline>li {display: inline-block}\n",
              ".list-inline>li:not(:last-child)::after {content: \"\\00b7\"; padding: 0 .5ex}\n",
              "</style>\n",
              "<ol class=list-inline><li>45.3203703703704</li><li>18.0925925925926</li><li>203.12962962963</li><li>4487.96296296296</li></ol>\n"
            ]
          },
          "metadata": {}
        },
        {
          "output_type": "stream",
          "name": "stdout",
          "text": [
            "The flipper length of male penguins is:  203.1296"
          ]
        }
      ]
    },
    {
      "cell_type": "markdown",
      "metadata": {
        "id": "NGgZyKpqseA0"
      },
      "source": [
        "The computed average supports our results from the above hypothesis testing"
      ]
    },
    {
      "cell_type": "markdown",
      "metadata": {
        "id": "xOrSRHfvseDf"
      },
      "source": [
        "# Q3 Do less than 5% of all penguins have a bill depth of at least 20mm?"
      ]
    },
    {
      "cell_type": "code",
      "metadata": {
        "id": "APvUKku7seHr",
        "colab": {
          "base_uri": "https://localhost:8080/"
        },
        "outputId": "eca10003-1f86-4b10-c603-22a5dc35a518"
      },
      "source": [
        "# Percentage of penguins that have bill length at least 20mm\n",
        "message(nrow(my.penguins[my.penguins$bill_depth_mm >=20, ]), \"% of all penguins have a bill depth of atleast 20mm\")     # Count converted directl to percent as we have 100 observations"
      ],
      "execution_count": null,
      "outputs": [
        {
          "output_type": "stream",
          "name": "stderr",
          "text": [
            "6% of all penguins have a bill depth of atleast 20mm\n",
            "\n"
          ]
        }
      ]
    },
    {
      "cell_type": "markdown",
      "metadata": {
        "id": "j6x7hnT7seN5"
      },
      "source": [
        "H0 -> 5% or more of all penguins have a bill depth of atleast 20mm (>= 20mm) <br>\n",
        "H1 -> Less than 5% of all penguins have a bill depth at least 20mm (< 20mm) <br>"
      ]
    },
    {
      "cell_type": "code",
      "metadata": {
        "id": "vqSgVyxRseRW",
        "colab": {
          "base_uri": "https://localhost:8080/"
        },
        "outputId": "5d84ae53-41cd-404e-f794-614f2edde8ef"
      },
      "source": [
        "# Calculuting Test statistic\n",
        "t = (mean(my.penguins$bill_depth_mm) - 20)/sqrt(sd(my.penguins$bill_depth_mm)^2/nrow(my.penguins))\n",
        "print(t)"
      ],
      "execution_count": null,
      "outputs": [
        {
          "output_type": "stream",
          "name": "stdout",
          "text": [
            "[1] -13.44744\n"
          ]
        }
      ]
    },
    {
      "cell_type": "code",
      "metadata": {
        "id": "d5oHxPzKseUI",
        "colab": {
          "base_uri": "https://localhost:8080/"
        },
        "outputId": "181e64d6-082f-4a5f-a59a-e27f95ec2faa"
      },
      "source": [
        "# Calculating p value\n",
        "message(\"Value of p*: \", pt(-abs(t),nrow(my.penguins)))"
      ],
      "execution_count": null,
      "outputs": [
        {
          "output_type": "stream",
          "name": "stderr",
          "text": [
            "Value of p*: 1.86479798577524e-24\n",
            "\n"
          ]
        }
      ]
    },
    {
      "cell_type": "markdown",
      "metadata": {
        "id": "b_ZskB1rseWl"
      },
      "source": [
        "As p value is greater than 0.5 the null hypothesis holds ground that 5% or more of all penguins have a bill depth of at least 20mm. This is in agreement of our computed value above.|"
      ]
    },
    {
      "cell_type": "code",
      "metadata": {
        "id": "KDm4Bft5ozfS"
      },
      "source": [],
      "execution_count": null,
      "outputs": []
    }
  ]
}